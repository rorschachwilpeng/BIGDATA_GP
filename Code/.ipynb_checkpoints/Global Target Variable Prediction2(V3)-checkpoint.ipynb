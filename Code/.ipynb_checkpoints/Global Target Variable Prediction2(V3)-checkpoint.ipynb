{
 "cells": [
  {
   "cell_type": "code",
   "execution_count": 1,
   "metadata": {},
   "outputs": [],
   "source": [
    "from pyspark import SparkConf, SparkContext\n",
    "\n",
    "conf = SparkConf().setMaster(\"local[*]\").setAppName(\"Global\") \n",
    "sc = SparkContext(conf = conf)\n",
    "\n",
    "from pyspark.sql import SparkSession\n",
    "\n",
    "spark = SparkSession \\\n",
    ".builder \\\n",
    ".appName(\"Global Models\") \\\n",
    ".config(\"spark.some.config.option\", \"some-value\") \\\n",
    ".getOrCreate()"
   ]
  },
  {
   "cell_type": "markdown",
   "metadata": {},
   "source": [
    "# Global Method"
   ]
  },
  {
   "cell_type": "markdown",
   "metadata": {},
   "source": [
    "# 1. Import Modules"
   ]
  },
  {
   "cell_type": "code",
   "execution_count": 2,
   "metadata": {},
   "outputs": [],
   "source": [
    "from pyspark.ml import Pipeline\n",
    "from pyspark.sql import SparkSession\n",
    "from pyspark.ml.feature import VectorAssembler\n",
    "from pyspark.ml.classification import DecisionTreeClassifier,OneVsRest\n",
    "from pyspark.ml.regression import RandomForestRegressor\n",
    "from pyspark.ml.classification import RandomForestClassifier\n",
    "from pyspark.ml.regression import GBTRegressor\n",
    "from pyspark.ml.classification import MultilayerPerceptronClassifier\n",
    "from pyspark.ml.feature import VectorIndexer\n",
    "from pyspark.ml.classification import FMClassifier\n",
    "from pyspark.ml.classification import GBTClassifier\n",
    "from pyspark.ml.regression import FMRegressor\n",
    "from pyspark.ml.classification import RandomForestClassificationModel\n",
    "from pyspark.mllib.classification import SVMWithSGD, SVMModel\n",
    "from pyspark.mllib.regression import LabeledPoint\n",
    "from pyspark.ml.feature import MinMaxScaler\n",
    "from pyspark.ml.evaluation import RegressionEvaluator\n",
    "from pyspark.ml.feature import QuantileDiscretizer\n",
    "from pyspark.ml.evaluation import MulticlassClassificationEvaluator\n",
    "from pyspark.ml.classification import LogisticRegression\n",
    "from pyspark.sql.functions import col\n",
    "import pandas as pd"
   ]
  },
  {
   "cell_type": "markdown",
   "metadata": {},
   "source": [
    "# 2. Load Data"
   ]
  },
  {
   "cell_type": "code",
   "execution_count": 3,
   "metadata": {},
   "outputs": [],
   "source": [
    "# spark = SparkSession.builder.master(\"global\").appName(\"GlobalModels\").getOrCreate()\n",
    "\n",
    "# Load original dataset\n",
    "# df = spark.read.options(delimiter=\",\",inferSchema=True,header=False).csv(\"../Data/Processed Data/\")\n",
    "\n",
    "# Load smaller dataset\n",
    "df = spark.read.options(delimiter=\",\",inferSchema=True,header=False).csv(\"../Data/Smaller Dataset.csv\")\n",
    "\n",
    "from pyspark.sql.types import DoubleType\n",
    "df = df.withColumn(\"time\", df[\"_c0\"].cast(DoubleType()))"
   ]
  },
  {
   "cell_type": "markdown",
   "metadata": {},
   "source": [
    "# 3. Feature Engineering"
   ]
  },
  {
   "cell_type": "markdown",
   "metadata": {},
   "source": [
    "## 3.1 Discretization"
   ]
  },
  {
   "cell_type": "markdown",
   "metadata": {},
   "source": [
    "Transform continous data, \"vehicle speed\", \"engine load\", \"engine RPM\", \"Pitch\" into discretized type"
   ]
  },
  {
   "cell_type": "markdown",
   "metadata": {},
   "source": [
    "vehicle speed -> _c17\n",
    "engine load -> _c18\n",
    "engine RPM -> _c19"
   ]
  },
  {
   "cell_type": "markdown",
   "metadata": {},
   "source": [
    "### http://ijj.acm.org/volumes/volume2/no4/ijjvol2no4p6.pdf -> Reference"
   ]
  },
  {
   "cell_type": "code",
   "execution_count": 4,
   "metadata": {},
   "outputs": [],
   "source": [
    "### Vehicle Speed\n",
    "VS_discretizer = QuantileDiscretizer(numBuckets=10, inputCol=\"_c1\", outputCol=\"_c17\")\n",
    "\n",
    "### Engine Load\n",
    "EL_discretizer = QuantileDiscretizer(numBuckets=10, inputCol=\"_c3\", outputCol=\"_c18\")\n",
    "\n",
    "### Engine RPM\n",
    "RPM_discretizer = QuantileDiscretizer(numBuckets=10, inputCol=\"_c5\", outputCol=\"_c19\")\n",
    "\n",
    "data3 = VS_discretizer.fit(df).transform(df)\n",
    "data2 = EL_discretizer.fit(data3).transform(data3)\n",
    "data = RPM_discretizer.fit(data2).transform(data2)"
   ]
  },
  {
   "cell_type": "markdown",
   "metadata": {},
   "source": [
    "## 3.2 Transform into DataFrame"
   ]
  },
  {
   "cell_type": "markdown",
   "metadata": {},
   "source": [
    "### 3.2.1 Target 1 - Vehicle Speed Training & Testing Sets"
   ]
  },
  {
   "cell_type": "markdown",
   "metadata": {},
   "source": [
    "**Some attributes are deleted base on correlation analysis**"
   ]
  },
  {
   "cell_type": "code",
   "execution_count": 5,
   "metadata": {},
   "outputs": [],
   "source": [
    "# Total Aceeleration,Lateral Acceleration,Pitch is delted, \n",
    "### Vehicle Speed Dataset\n",
    "# feature selection\n",
    "vehicleSpeed_va = VectorAssembler(inputCols=[\"time\",\"_c2\",\"_c8\",\"_c10\",\"_c11\",\"_c12\",\"_c14\",\"_c17\",\"_c18\",\"_c19\"], outputCol=\"features\")\n",
    "vehicleSpeed_adj = vehicleSpeed_va.setHandleInvalid(\"skip\").transform(data)\n",
    "\n",
    "\n",
    "# target variable selection(Vehicle Speed)\n",
    "vehicleSpeed_lab = vehicleSpeed_adj.select(\"time\",\"features\", \"_c17\")\n",
    "vehicleSpeed_data_selected = vehicleSpeed_lab.withColumnRenamed(\"_c17\", \"label\")\n",
    "\n",
    "# Split the data into multiple training and test sets\n",
    "(vehicleSpeed_trainingData1, vehicleSpeed_testData1, vehicleSpeed_trainingData2, vehicleSpeed_testData2,\n",
    " vehicleSpeed_trainingData3, vehicleSpeed_testData3, vehicleSpeed_trainingData4,vehicleSpeed_testData4) = vehicleSpeed_data_selected.randomSplit([0.15,0.1,0.15,0.1,0.15,0.1,0.15,0.1],seed=1234)"
   ]
  },
  {
   "cell_type": "markdown",
   "metadata": {},
   "source": [
    "### 3.2.2 Target 2 - Rain Intensity Training & Testing Sets"
   ]
  },
  {
   "cell_type": "code",
   "execution_count": 6,
   "metadata": {},
   "outputs": [],
   "source": [
    "# Total Aceeleration,Lateral Acceleration,Pitch is delted\n",
    "### Rain Intensity Dataset\n",
    "# feature selection\n",
    "rainIntensity_va = VectorAssembler(inputCols=[\"time\",\"_c2\",\"_c8\",\"_c10\",\"_c11\",\"_c12\",\"_c13\",\"_c14\",\"_c18\",\"_c19\"], outputCol=\"features\")\n",
    "rainIntensity_adj = rainIntensity_va.setHandleInvalid(\"skip\").transform(data)\n",
    "\n",
    "# target variable selection(Rain Intensity)\n",
    "rainIntensity_lab = rainIntensity_adj.select(\"time\",\"features\", \"_c13\")\n",
    "rainIntensity_data_selected = rainIntensity_lab.withColumnRenamed(\"_c13\", \"label\")\n",
    "\n",
    "# Split the data into multiple training and test sets\n",
    "(rainIntensity_trainingData1, rainIntensity_testData1, rainIntensity_trainingData2, rainIntensity_testData2,\n",
    " rainIntensity_trainingData3, rainIntensity_testData3, rainIntensity_trainingData4, rainIntensity_testData4) = rainIntensity_data_selected.randomSplit([0.15,0.1,0.15,0.1,0.15,0.1,0.15,0.1],seed=2345)"
   ]
  },
  {
   "cell_type": "markdown",
   "metadata": {},
   "source": [
    "### 3.2.3 Target 3 - Driver's Wellbeing Training & Testing Sets"
   ]
  },
  {
   "cell_type": "code",
   "execution_count": 7,
   "metadata": {},
   "outputs": [],
   "source": [
    "# Total Aceeleration,Lateral Acceleration,Pitch is delted\n",
    "### Driver's Wellbeing Dataset\n",
    "# feature selection\n",
    "driverWellbeing_va = VectorAssembler(inputCols=[\"time\",\"_c2\",\"_c8\",\"_c10\",\"_c11\",\"_c12\",\"_c14\",\"_c15\",\"_c18\",\"_c19\"], outputCol=\"features\")\n",
    "driverWellbeing_adj = driverWellbeing_va.setHandleInvalid(\"skip\").transform(data)\n",
    "\n",
    "# target variable selection(Driver Wellbeing)\n",
    "driverWellbeing_lab = driverWellbeing_adj.select(\"time\",\"features\", \"_c15\")\n",
    "driverWellbeing_data_selected = driverWellbeing_lab.withColumnRenamed(\"_c15\", \"label\")\n",
    "\n",
    "# Split the data into multiple training and test sets\n",
    "(driverWellbeing_trainingData1, driverWellbeing_testData1, driverWellbeing_trainingData2, driverWellbeing_testData2,\n",
    " driverWellbeing_trainingData3, driverWellbeing_testData3, driverWellbeing_trainingData4, driverWellbeing_testData4) = driverWellbeing_data_selected.randomSplit([0.15,0.1,0.15,0.1,0.15,0.1,0.15,0.1],seed=3456)"
   ]
  },
  {
   "cell_type": "markdown",
   "metadata": {},
   "source": [
    "### 3.2.4 Target 4 - Driver's Rush Training & Testing Sets"
   ]
  },
  {
   "cell_type": "code",
   "execution_count": 8,
   "metadata": {},
   "outputs": [],
   "source": [
    "# Total Aceeleration,Lateral Acceleration,Pitch is delted\n",
    "### Driver's Rush Dataset\n",
    "# feature selection\n",
    "driverRush_va = VectorAssembler(inputCols=[\"time\",\"_c2\",\"_c8\",\"_c10\",\"_c11\",\"_c12\",\"_c14\",\"_c16\",\"_c18\",\"_c19\"], outputCol=\"features\")\n",
    "driverRush_adj = driverRush_va.setHandleInvalid(\"skip\").transform(data)\n",
    "\n",
    "# target variable selection(Driver Rush)\n",
    "driverRush_lab = driverRush_adj.select(\"time\",\"features\", \"_c16\")\n",
    "driverRush_data_selected = driverRush_lab.withColumnRenamed(\"_c16\", \"label\")\n",
    "\n",
    "# Split the data into multiple training and test sets\n",
    "(driverRush_trainingData1, driverRush_testData1, driverRush_trainingData2, driverRush_testData2,\n",
    " driverRush_trainingData3, driverRush_testData3, driverRush_trainingData4, driverRush_testData4,) = driverRush_data_selected.randomSplit([0.15,0.1,0.15,0.1,0.15,0.1,0.15,0.1],seed=4567)"
   ]
  },
  {
   "cell_type": "markdown",
   "metadata": {},
   "source": [
    "## 3.3 Data Resampling "
   ]
  },
  {
   "cell_type": "markdown",
   "metadata": {},
   "source": [
    "### 3.3.1 SMOTE (Advanced Method)"
   ]
  },
  {
   "cell_type": "markdown",
   "metadata": {},
   "source": [
    "#### 3.3.1(0) SMOTE Overall structure"
   ]
  },
  {
   "cell_type": "code",
   "execution_count": 9,
   "metadata": {
    "collapsed": true
   },
   "outputs": [
    {
     "name": "stderr",
     "output_type": "stream",
     "text": [
      "/Users/apple/anaconda3/lib/python3.7/site-packages/sklearn/feature_extraction/image.py:167: DeprecationWarning: `np.int` is a deprecated alias for the builtin `int`. To silence this warning, use `int` by itself. Doing this will not modify any behavior and is safe. When replacing `np.int`, you may wish to use e.g. `np.int64` or `np.int32` to specify the precision. If you wish to review your current use, check the release note link for additional information.\n",
      "Deprecated in NumPy 1.20; for more details and guidance: https://numpy.org/devdocs/release/1.20.0-notes.html#deprecations\n",
      "  dtype=np.int):\n",
      "/Users/apple/anaconda3/lib/python3.7/site-packages/sklearn/linear_model/least_angle.py:35: DeprecationWarning: `np.float` is a deprecated alias for the builtin `float`. To silence this warning, use `float` by itself. Doing this will not modify any behavior and is safe. If you specifically wanted the numpy scalar type, use `np.float64` here.\n",
      "Deprecated in NumPy 1.20; for more details and guidance: https://numpy.org/devdocs/release/1.20.0-notes.html#deprecations\n",
      "  eps=np.finfo(np.float).eps,\n",
      "/Users/apple/anaconda3/lib/python3.7/site-packages/sklearn/linear_model/least_angle.py:597: DeprecationWarning: `np.float` is a deprecated alias for the builtin `float`. To silence this warning, use `float` by itself. Doing this will not modify any behavior and is safe. If you specifically wanted the numpy scalar type, use `np.float64` here.\n",
      "Deprecated in NumPy 1.20; for more details and guidance: https://numpy.org/devdocs/release/1.20.0-notes.html#deprecations\n",
      "  eps=np.finfo(np.float).eps, copy_X=True, fit_path=True,\n",
      "/Users/apple/anaconda3/lib/python3.7/site-packages/sklearn/linear_model/least_angle.py:836: DeprecationWarning: `np.float` is a deprecated alias for the builtin `float`. To silence this warning, use `float` by itself. Doing this will not modify any behavior and is safe. If you specifically wanted the numpy scalar type, use `np.float64` here.\n",
      "Deprecated in NumPy 1.20; for more details and guidance: https://numpy.org/devdocs/release/1.20.0-notes.html#deprecations\n",
      "  eps=np.finfo(np.float).eps, copy_X=True, fit_path=True,\n",
      "/Users/apple/anaconda3/lib/python3.7/site-packages/sklearn/linear_model/least_angle.py:862: DeprecationWarning: `np.float` is a deprecated alias for the builtin `float`. To silence this warning, use `float` by itself. Doing this will not modify any behavior and is safe. If you specifically wanted the numpy scalar type, use `np.float64` here.\n",
      "Deprecated in NumPy 1.20; for more details and guidance: https://numpy.org/devdocs/release/1.20.0-notes.html#deprecations\n",
      "  eps=np.finfo(np.float).eps, positive=False):\n",
      "/Users/apple/anaconda3/lib/python3.7/site-packages/sklearn/linear_model/least_angle.py:1097: DeprecationWarning: `np.float` is a deprecated alias for the builtin `float`. To silence this warning, use `float` by itself. Doing this will not modify any behavior and is safe. If you specifically wanted the numpy scalar type, use `np.float64` here.\n",
      "Deprecated in NumPy 1.20; for more details and guidance: https://numpy.org/devdocs/release/1.20.0-notes.html#deprecations\n",
      "  max_n_alphas=1000, n_jobs=None, eps=np.finfo(np.float).eps,\n",
      "/Users/apple/anaconda3/lib/python3.7/site-packages/sklearn/linear_model/least_angle.py:1344: DeprecationWarning: `np.float` is a deprecated alias for the builtin `float`. To silence this warning, use `float` by itself. Doing this will not modify any behavior and is safe. If you specifically wanted the numpy scalar type, use `np.float64` here.\n",
      "Deprecated in NumPy 1.20; for more details and guidance: https://numpy.org/devdocs/release/1.20.0-notes.html#deprecations\n",
      "  max_n_alphas=1000, n_jobs=None, eps=np.finfo(np.float).eps,\n",
      "/Users/apple/anaconda3/lib/python3.7/site-packages/sklearn/linear_model/least_angle.py:1480: DeprecationWarning: `np.float` is a deprecated alias for the builtin `float`. To silence this warning, use `float` by itself. Doing this will not modify any behavior and is safe. If you specifically wanted the numpy scalar type, use `np.float64` here.\n",
      "Deprecated in NumPy 1.20; for more details and guidance: https://numpy.org/devdocs/release/1.20.0-notes.html#deprecations\n",
      "  eps=np.finfo(np.float).eps, copy_X=True, positive=False):\n",
      "/Users/apple/anaconda3/lib/python3.7/site-packages/sklearn/linear_model/randomized_l1.py:152: DeprecationWarning: `np.float` is a deprecated alias for the builtin `float`. To silence this warning, use `float` by itself. Doing this will not modify any behavior and is safe. If you specifically wanted the numpy scalar type, use `np.float64` here.\n",
      "Deprecated in NumPy 1.20; for more details and guidance: https://numpy.org/devdocs/release/1.20.0-notes.html#deprecations\n",
      "  precompute=False, eps=np.finfo(np.float).eps,\n",
      "/Users/apple/anaconda3/lib/python3.7/site-packages/sklearn/linear_model/randomized_l1.py:320: DeprecationWarning: `np.float` is a deprecated alias for the builtin `float`. To silence this warning, use `float` by itself. Doing this will not modify any behavior and is safe. If you specifically wanted the numpy scalar type, use `np.float64` here.\n",
      "Deprecated in NumPy 1.20; for more details and guidance: https://numpy.org/devdocs/release/1.20.0-notes.html#deprecations\n",
      "  eps=np.finfo(np.float).eps, random_state=None,\n",
      "/Users/apple/anaconda3/lib/python3.7/site-packages/sklearn/linear_model/randomized_l1.py:580: DeprecationWarning: `np.float` is a deprecated alias for the builtin `float`. To silence this warning, use `float` by itself. Doing this will not modify any behavior and is safe. If you specifically wanted the numpy scalar type, use `np.float64` here.\n",
      "Deprecated in NumPy 1.20; for more details and guidance: https://numpy.org/devdocs/release/1.20.0-notes.html#deprecations\n",
      "  eps=4 * np.finfo(np.float).eps, n_jobs=None,\n",
      "/Users/apple/anaconda3/lib/python3.7/site-packages/sklearn/decomposition/online_lda.py:31: DeprecationWarning: `np.float` is a deprecated alias for the builtin `float`. To silence this warning, use `float` by itself. Doing this will not modify any behavior and is safe. If you specifically wanted the numpy scalar type, use `np.float64` here.\n",
      "Deprecated in NumPy 1.20; for more details and guidance: https://numpy.org/devdocs/release/1.20.0-notes.html#deprecations\n",
      "  EPS = np.finfo(np.float).eps\n",
      "/Users/apple/anaconda3/lib/python3.7/site-packages/sklearn/ensemble/gradient_boosting.py:34: DeprecationWarning: `np.bool` is a deprecated alias for the builtin `bool`. To silence this warning, use `bool` by itself. Doing this will not modify any behavior and is safe. If you specifically wanted the numpy scalar type, use `np.bool_` here.\n",
      "Deprecated in NumPy 1.20; for more details and guidance: https://numpy.org/devdocs/release/1.20.0-notes.html#deprecations\n",
      "  from ._gradient_boosting import predict_stages\n",
      "/Users/apple/anaconda3/lib/python3.7/site-packages/sklearn/ensemble/gradient_boosting.py:34: DeprecationWarning: `np.bool` is a deprecated alias for the builtin `bool`. To silence this warning, use `bool` by itself. Doing this will not modify any behavior and is safe. If you specifically wanted the numpy scalar type, use `np.bool_` here.\n",
      "Deprecated in NumPy 1.20; for more details and guidance: https://numpy.org/devdocs/release/1.20.0-notes.html#deprecations\n",
      "  from ._gradient_boosting import predict_stages\n"
     ]
    }
   ],
   "source": [
    "from collections import Counter\n",
    "from sklearn.datasets import make_classification\n",
    "from imblearn.over_sampling import SMOTE\n",
    "from matplotlib import pyplot\n",
    "from numpy import where\n",
    "from imblearn.over_sampling import SMOTE, ADASYN\n",
    "import numpy as np\n",
    "from imblearn.over_sampling import SMOTE, ADASYN\n",
    "from pyspark.sql.functions import monotonically_increasing_id\n",
    "from numpy import zeros, newaxis\n",
    "from pyspark.sql.types import *\n",
    "from pyspark.ml.linalg import Vectors, VectorUDT\n",
    "from pyspark.sql.functions import udf\n",
    "\n",
    "#######################\n",
    "##### Input: Dataset with different number of multiple label classes\n",
    "##### Output: Dataset with same number of multiple label classes\n",
    "#######################\n",
    "def SMOTE_PROCESS(training_dataset):\n",
    "    # Extract label and features\n",
    "    y = np.array(training_dataset.select('label').collect())\n",
    "    X = np.array(training_dataset.select('features').collect())\n",
    "    # Reshape array's size (SMOTE function only take 2d array)\n",
    "    new_X = X.reshape(X.shape[0],X.shape[2])\n",
    "    new_y = y.flatten()\n",
    "    # Driver Wellbeing\n",
    "    X_resampled, y_resampled = SMOTE(sampling_strategy={2: 25000}).fit_resample(new_X, new_y)\n",
    "    \n",
    "    # print(sorted(Counter(y_resampled).items()))\n",
    "    \n",
    "    ## Transform dataframe into spark dataframe\n",
    "    xResample = X_resampled[:, newaxis,:]\n",
    "    yResample = y_resampled[:,newaxis]\n",
    "    xResample = xResample.astype(int)\n",
    "    yResample = yResample.astype(int)\n",
    "    ## Rebuild feature \n",
    "    featureSchema = StructType([\n",
    "      StructField(\"features\", ArrayType(IntegerType()), True),\n",
    "    ])\n",
    "\n",
    "    df_feature = spark.createDataFrame(xResample.tolist(),schema=featureSchema)\n",
    "    ## Rebulid label\n",
    "    labelSchema = StructType([\n",
    "      StructField(\"label\", IntegerType(), True),\n",
    "    ])\n",
    "    \n",
    "    df_label = spark.createDataFrame(yResample.tolist(),schema=labelSchema)\n",
    "    ## Combine two dataframe with a outter key\n",
    "    df1 = df_feature.withColumn(\"id\", monotonically_increasing_id())\n",
    "    df2 = df_label.withColumn(\"id\", monotonically_increasing_id())\n",
    "    df_data = df2.join(df1, \"id\", \"outer\").drop(\"id\")\n",
    "    df_data.show()\n",
    "    ### Transform the feature type into vector(which can be regnonized by the training model)\n",
    "    list_to_vector_udf = udf(lambda l: Vectors.dense(l), VectorUDT())\n",
    "    df_data = df_data.select( \n",
    "    df_data[\"label\"],\n",
    "    list_to_vector_udf(df_data[\"features\"]).alias(\"features\")\n",
    "    )\n",
    "    return df_data"
   ]
  },
  {
   "cell_type": "markdown",
   "metadata": {},
   "source": [
    "#### 3.3.1(1)  T1- Vehicle Speed Resampling based on SMOTE"
   ]
  },
  {
   "cell_type": "markdown",
   "metadata": {},
   "source": [
    "###### A. Vehicle Speed Train Data"
   ]
  },
  {
   "cell_type": "code",
   "execution_count": 10,
   "metadata": {},
   "outputs": [
    {
     "name": "stdout",
     "output_type": "stream",
     "text": [
      "+-----+-----+\n",
      "|label|count|\n",
      "+-----+-----+\n",
      "|  0.0| 1177|\n",
      "|  1.0| 1203|\n",
      "|  2.0| 1218|\n",
      "|  3.0| 1191|\n",
      "|  4.0| 1149|\n",
      "|  5.0| 1215|\n",
      "|  6.0| 1168|\n",
      "|  7.0| 1160|\n",
      "|  8.0| 1158|\n",
      "|  9.0| 1206|\n",
      "+-----+-----+\n",
      "\n"
     ]
    }
   ],
   "source": [
    "# Original dataset label class distribution\n",
    "vehicleSpeed_trainingData1.groupBy('label').count().sort('label').show()"
   ]
  },
  {
   "cell_type": "code",
   "execution_count": 34,
   "metadata": {},
   "outputs": [
    {
     "name": "stdout",
     "output_type": "stream",
     "text": [
      "+--------------------+-----+\n",
      "|            features|label|\n",
      "+--------------------+-----+\n",
      "|(10,[0,5,6,8,9],[...|  0.0|\n",
      "|[58.097,0.0,0.0,0...|  0.0|\n",
      "|[60.307,0.0,0.0,0...|  0.0|\n",
      "|[68.347,0.0,0.0,0...|  0.0|\n",
      "|[69.387,0.0,0.0,0...|  0.0|\n",
      "|(10,[0,5,6,8,9],[...|  0.0|\n",
      "|(10,[0,5,6,8,9],[...|  0.0|\n",
      "|[163.65,0.0,0.0,0...|  0.0|\n",
      "|[194.28,0.0,0.0,0...|  0.0|\n",
      "|(10,[0,5,6,9],[22...|  0.0|\n",
      "|(10,[0,4,5,6,8],[...|  0.0|\n",
      "|[261.48,0.0,4.0,1...|  0.0|\n",
      "|(10,[0,5,6,8,9],[...|  0.0|\n",
      "|(10,[0,4,5,6,8],[...|  0.0|\n",
      "|(10,[0,4,5,6,8],[...|  0.0|\n",
      "|(10,[0,5,6,8,9],[...|  0.0|\n",
      "|(10,[0,4,5,6],[34...|  0.0|\n",
      "|(10,[0,5,6,8,9],[...|  0.0|\n",
      "|[357.23,0.0,0.0,1...|  0.0|\n",
      "|[430.93,0.0,0.0,0...|  0.0|\n",
      "+--------------------+-----+\n",
      "only showing top 20 rows\n",
      "\n",
      "+-----+-----+\n",
      "|label|count|\n",
      "+-----+-----+\n",
      "|  0.0|  186|\n",
      "|  1.0|  172|\n",
      "|  2.0|  172|\n",
      "|  3.0|  169|\n",
      "|  4.0|  169|\n",
      "|  5.0|  176|\n",
      "|  6.0|  168|\n",
      "|  7.0|  188|\n",
      "|  8.0|  195|\n",
      "|  9.0|  179|\n",
      "+-----+-----+\n",
      "\n"
     ]
    }
   ],
   "source": [
    "### VehicleSpeed Training Data\n",
    "### Resample the dataset\n",
    "from pyspark.sql.functions import col\n",
    "df_class_0 = vehicleSpeed_trainingData1.where(vehicleSpeed_trainingData1.label == 0).select(col(\"features\"),col(\"label\"))\n",
    "df_class_1 = vehicleSpeed_trainingData1.where(vehicleSpeed_trainingData1.label == 1).select(col(\"features\"),col(\"label\"))\n",
    "df_class_2 = vehicleSpeed_trainingData1.where(vehicleSpeed_trainingData1.label == 2).select(col(\"features\"),col(\"label\"))\n",
    "df_class_3 = vehicleSpeed_trainingData1.where(vehicleSpeed_trainingData1.label == 3).select(col(\"features\"),col(\"label\"))\n",
    "df_class_4 = vehicleSpeed_trainingData1.where(vehicleSpeed_trainingData1.label == 4).select(col(\"features\"),col(\"label\"))\n",
    "df_class_5 = vehicleSpeed_trainingData1.where(vehicleSpeed_trainingData1.label == 5).select(col(\"features\"),col(\"label\"))\n",
    "df_class_6 = vehicleSpeed_trainingData1.where(vehicleSpeed_trainingData1.label == 6).select(col(\"features\"),col(\"label\"))\n",
    "df_class_7 = vehicleSpeed_trainingData1.where(vehicleSpeed_trainingData1.label == 7).select(col(\"features\"),col(\"label\"))\n",
    "df_class_8 = vehicleSpeed_trainingData1.where(vehicleSpeed_trainingData1.label == 8).select(col(\"features\"),col(\"label\"))\n",
    "df_class_9 = vehicleSpeed_trainingData1.where(vehicleSpeed_trainingData1.label == 9).select(col(\"features\"),col(\"label\"))\n",
    "\n",
    "# Sample 20% of dataset as training data --> 23386 each class\n",
    "df_class_0_over = df_class_0.sample(fraction=0.15,seed=123)\n",
    "df_class_1_over = df_class_1.sample(fraction=0.15,seed=234)\n",
    "df_class_2_over = df_class_2.sample(fraction=0.15,seed=456)\n",
    "df_class_3_over = df_class_3.sample(fraction=0.15,seed=567)\n",
    "df_class_4_over = df_class_4.sample(fraction=0.15,seed=678)\n",
    "df_class_5_over = df_class_5.sample(fraction=0.15,seed=789)\n",
    "df_class_6_over = df_class_6.sample(fraction=0.15,seed=891)\n",
    "df_class_7_over = df_class_7.sample(fraction=0.15,seed=999)\n",
    "df_class_8_over = df_class_8.sample(fraction=0.15,seed=987)\n",
    "df_class_9_over = df_class_9.sample(fraction=0.15,seed=876)\n",
    "# # Combine\n",
    "df_train_over = df_class_0_over.union(df_class_1_over)\n",
    "df_train_over = df_train_over.union(df_class_2_over)\n",
    "df_train_over = df_train_over.union(df_class_3_over)\n",
    "df_train_over = df_train_over.union(df_class_4_over)\n",
    "df_train_over = df_train_over.union(df_class_5_over)\n",
    "df_train_over = df_train_over.union(df_class_6_over)\n",
    "df_train_over = df_train_over.union(df_class_7_over)\n",
    "df_train_over = df_train_over.union(df_class_8_over)\n",
    "df_train_vehicleSpeed = df_train_over.union(df_class_9_over)\n",
    "df_train_vehicleSpeed.show()\n",
    "# Dataset label class distribution after resampling\n",
    "df_train_vehicleSpeed.groupBy('label').count().sort('label').show()"
   ]
  },
  {
   "cell_type": "markdown",
   "metadata": {},
   "source": [
    "###### B. Vehicle Speed Test Data"
   ]
  },
  {
   "cell_type": "code",
   "execution_count": 14,
   "metadata": {},
   "outputs": [
    {
     "name": "stdout",
     "output_type": "stream",
     "text": [
      "+-----+-----+\n",
      "|label|count|\n",
      "+-----+-----+\n",
      "|  0.0|  789|\n",
      "|  1.0|  758|\n",
      "|  2.0|  760|\n",
      "|  3.0|  792|\n",
      "|  4.0|  792|\n",
      "|  5.0|  751|\n",
      "|  6.0|  724|\n",
      "|  7.0|  721|\n",
      "|  8.0|  738|\n",
      "|  9.0|  787|\n",
      "+-----+-----+\n",
      "\n"
     ]
    }
   ],
   "source": [
    "# Original dataset label's classes distribution\n",
    "vehicleSpeed_testData1.groupBy('label').count().sort('label').show()"
   ]
  },
  {
   "cell_type": "code",
   "execution_count": 15,
   "metadata": {},
   "outputs": [
    {
     "name": "stdout",
     "output_type": "stream",
     "text": [
      "+--------------------+-----+\n",
      "|            features|label|\n",
      "+--------------------+-----+\n",
      "|(10,[0,5,6,8,9],[...|  0.0|\n",
      "|(10,[0,5,6,8,9],[...|  0.0|\n",
      "|(10,[0,4,5,6,9],[...|  0.0|\n",
      "|(10,[0,4,5,6],[51...|  0.0|\n",
      "|(10,[0,4,5,6,8],[...|  0.0|\n",
      "|(10,[0,5,6,8],[69...|  0.0|\n",
      "|(10,[0,4,5,6,8],[...|  0.0|\n",
      "|(10,[0,5,6,8],[98...|  0.0|\n",
      "|(10,[0,5,6,8,9],[...|  0.0|\n",
      "|(10,[0,5,6,8],[12...|  0.0|\n",
      "|(10,[0,5,6,8],[12...|  0.0|\n",
      "|(10,[0,4,5,6],[15...|  0.0|\n",
      "|[1533.0,0.0,4.0,1...|  0.0|\n",
      "|[1709.0,0.0,0.0,0...|  0.0|\n",
      "|(10,[0,5,6,8],[17...|  0.0|\n",
      "|(10,[0,5,6,8],[17...|  0.0|\n",
      "|(10,[0,5,6,8,9],[...|  0.0|\n",
      "|(10,[0,5,6,8,9],[...|  0.0|\n",
      "|(10,[0,5,6,8],[23...|  0.0|\n",
      "|(10,[0,5,6,8,9],[...|  0.0|\n",
      "+--------------------+-----+\n",
      "only showing top 20 rows\n",
      "\n",
      "+-----+-----+\n",
      "|label|count|\n",
      "+-----+-----+\n",
      "|  0.0|   36|\n",
      "|  1.0|   41|\n",
      "|  2.0|   50|\n",
      "|  3.0|   51|\n",
      "|  4.0|   44|\n",
      "|  5.0|   55|\n",
      "|  6.0|   49|\n",
      "|  7.0|   47|\n",
      "|  8.0|   49|\n",
      "|  9.0|   50|\n",
      "+-----+-----+\n",
      "\n"
     ]
    }
   ],
   "source": [
    "### Vehicle Speed Testing Data\n",
    "### Resample the dataset\n",
    "# from pyspark.sql.functions import col\n",
    "df_class_0 = vehicleSpeed_testData1.where(vehicleSpeed_testData1.label == 0).select(col(\"features\"),col(\"label\"))\n",
    "df_class_1 = vehicleSpeed_testData1.where(vehicleSpeed_testData1.label == 1).select(col(\"features\"),col(\"label\"))\n",
    "df_class_2 = vehicleSpeed_testData1.where(vehicleSpeed_testData1.label == 2).select(col(\"features\"),col(\"label\"))\n",
    "df_class_3 = vehicleSpeed_testData1.where(vehicleSpeed_testData1.label == 3).select(col(\"features\"),col(\"label\"))\n",
    "df_class_4 = vehicleSpeed_testData1.where(vehicleSpeed_testData1.label == 4).select(col(\"features\"),col(\"label\"))\n",
    "df_class_5 = vehicleSpeed_testData1.where(vehicleSpeed_testData1.label == 5).select(col(\"features\"),col(\"label\"))\n",
    "df_class_6 = vehicleSpeed_testData1.where(vehicleSpeed_testData1.label == 6).select(col(\"features\"),col(\"label\"))\n",
    "df_class_7 = vehicleSpeed_testData1.where(vehicleSpeed_testData1.label == 7).select(col(\"features\"),col(\"label\"))\n",
    "df_class_8 = vehicleSpeed_testData1.where(vehicleSpeed_testData1.label == 8).select(col(\"features\"),col(\"label\"))\n",
    "df_class_9 = vehicleSpeed_testData1.where(vehicleSpeed_testData1.label == 9).select(col(\"features\"),col(\"label\"))\n",
    "\n",
    "# # Sample smaller dataset as training data --> 5000 each class\n",
    "df_class_0_over = df_class_0.sample(fraction=0.06435,seed=123)\n",
    "df_class_1_over = df_class_1.sample(fraction=0.06435,seed=234)\n",
    "df_class_2_over = df_class_2.sample(fraction=0.06435,seed=456)\n",
    "df_class_3_over = df_class_3.sample(fraction=0.06435,seed=567)\n",
    "df_class_4_over = df_class_4.sample(fraction=0.06435,seed=678)\n",
    "df_class_5_over = df_class_5.sample(fraction=0.06435,seed=789)\n",
    "df_class_6_over = df_class_6.sample(fraction=0.06435,seed=891)\n",
    "df_class_7_over = df_class_7.sample(fraction=0.06435,seed=999)\n",
    "df_class_8_over = df_class_8.sample(fraction=0.06435,seed=987)\n",
    "df_class_9_over = df_class_9.sample(fraction=0.06435,seed=876)\n",
    "\n",
    "# # # Combine\n",
    "df_test_over = df_class_0_over.union(df_class_1_over)\n",
    "df_test_over = df_test_over.union(df_class_2_over)\n",
    "df_test_over = df_test_over.union(df_class_3_over)\n",
    "df_test_over = df_test_over.union(df_class_4_over)\n",
    "df_test_over = df_test_over.union(df_class_5_over)\n",
    "df_test_over = df_test_over.union(df_class_6_over)\n",
    "df_test_over = df_test_over.union(df_class_7_over)\n",
    "df_test_over = df_test_over.union(df_class_8_over)\n",
    "df_test_vehicleSpeed = df_test_over.union(df_class_9_over)\n",
    "df_test_vehicleSpeed.show()\n",
    "# Dataset label class distribution after resampling\n",
    "df_test_vehicleSpeed.groupBy('label').count().sort('label').show()"
   ]
  },
  {
   "cell_type": "markdown",
   "metadata": {},
   "source": [
    "#### 3.3.2(2) T2 - Rain Intensity Resampling based on SMOTE"
   ]
  },
  {
   "cell_type": "markdown",
   "metadata": {},
   "source": [
    "###### A. Rain Intensity Train Data"
   ]
  },
  {
   "cell_type": "code",
   "execution_count": 16,
   "metadata": {},
   "outputs": [
    {
     "name": "stdout",
     "output_type": "stream",
     "text": [
      "+-----+-----+\n",
      "|label|count|\n",
      "+-----+-----+\n",
      "|  0.0| 9059|\n",
      "|  1.0| 1899|\n",
      "|  2.0|   85|\n",
      "|  3.0|  585|\n",
      "+-----+-----+\n",
      "\n"
     ]
    }
   ],
   "source": [
    "# Orignal dataset label's class distribution\n",
    "rainIntensity_trainingData1.groupBy('label').count().sort('label').show()"
   ]
  },
  {
   "cell_type": "code",
   "execution_count": 17,
   "metadata": {},
   "outputs": [
    {
     "name": "stdout",
     "output_type": "stream",
     "text": [
      "+-----+--------------------+\n",
      "|label|            features|\n",
      "+-----+--------------------+\n",
      "|    0|[9, 0, 0, 0, 0, 2...|\n",
      "|    0|[11, 0, 0, 0, 4, ...|\n",
      "|    0|[189, 5, 1, 0, 0,...|\n",
      "|    0|[391, 0, 0, 0, 0,...|\n",
      "|    0|[701, 5, 1, 0, 0,...|\n",
      "|    0|[708, 1, 0, 0, 0,...|\n",
      "|    0|[755, 0, 0, 0, 2,...|\n",
      "|    0|[821, 0, 0, 0, 2,...|\n",
      "|    0|[860, 3, 0, 0, 0,...|\n",
      "|    3|[940, 2, 0, 1, 0,...|\n",
      "|    3|[959, 4, 0, 1, 0,...|\n",
      "|    0|[1041, 5, 1, 0, 0...|\n",
      "|    0|[1069, 5, 1, 0, 0...|\n",
      "|    0|[1080, 5, 1, 0, 0...|\n",
      "|    0|[1256, 0, 0, 0, 0...|\n",
      "|    1|[1353, 0, 0, 0, 0...|\n",
      "|    3|[1488, 4, 0, 1, 0...|\n",
      "|    3|[1583, 0, 0, 1, 0...|\n",
      "|    0|[1586, 5, 1, 0, 0...|\n",
      "|    0|[1639, 5, 1, 0, 0...|\n",
      "+-----+--------------------+\n",
      "only showing top 20 rows\n",
      "\n",
      "+--------------------+-----+\n",
      "|            features|label|\n",
      "+--------------------+-----+\n",
      "|[1101.0,3.0,0.0,1...|    0|\n",
      "|[184.0,4.0,2.0,0....|    0|\n",
      "|[1673.0,5.0,1.0,0...|    0|\n",
      "|[1894.0,2.0,0.0,0...|    0|\n",
      "|[474.0,5.0,1.0,0....|    0|\n",
      "|[2372.0,0.0,0.0,0...|    0|\n",
      "|[79.0,1.0,2.0,0.0...|    0|\n",
      "|[137.0,3.0,0.0,0....|    0|\n",
      "|[174.0,0.0,0.0,1....|    0|\n",
      "|[1644.0,0.0,0.0,0...|    0|\n",
      "|[31.0,0.0,0.0,0.0...|    0|\n",
      "|[1875.0,0.0,0.0,1...|    0|\n",
      "|[47.0,0.0,1.0,0.0...|    0|\n",
      "|[1235.0,0.0,0.0,0...|    0|\n",
      "|[1767.0,3.0,0.0,0...|    0|\n",
      "|[170.0,2.0,3.0,0....|    0|\n",
      "|[618.0,2.0,0.0,0....|    0|\n",
      "|[833.0,0.0,1.0,0....|    0|\n",
      "|[1394.0,2.0,0.0,0...|    0|\n",
      "|[1360.0,0.0,0.0,0...|    0|\n",
      "+--------------------+-----+\n",
      "only showing top 20 rows\n",
      "\n",
      "+-----+-----+\n",
      "|label|count|\n",
      "+-----+-----+\n",
      "|    0|  396|\n",
      "|    1|  407|\n",
      "|    2|  400|\n",
      "|    3|  402|\n",
      "+-----+-----+\n",
      "\n"
     ]
    }
   ],
   "source": [
    "#######################\n",
    "##### Input: Dataset with different number of multiple label classes\n",
    "##### Output: Dataset with same number of multiple label classes\n",
    "#######################\n",
    "def rainIntensity_SMOTE_PROCESS(training_dataset):\n",
    "    # Extract label and features\n",
    "    y = np.array(training_dataset.select('label').collect())\n",
    "    X = np.array(training_dataset.select('features').collect())\n",
    "    # Reshape array's size (SMOTE function only take 2d array)\n",
    "    new_X = X.reshape(X.shape[0],X.shape[2])\n",
    "    new_y = y.flatten()\n",
    "    ### Set number of class going to reach for specific class\n",
    "    ##Original dataset upsampling target number\n",
    "    #X_resampled, y_resampled = SMOTE(ratio={2: 40000}).fit_sample(new_X, new_y)\n",
    "    ##Smaller dataset test upsampling target number  \n",
    "    X_resampled, y_resampled = SMOTE(sampling_strategy={2: 400}).fit_resample(new_X, new_y)\n",
    "    \n",
    "    ## Transform dataframe into spark dataframe\n",
    "    xResample = X_resampled[:, newaxis,:]\n",
    "    yResample = y_resampled[:,newaxis]\n",
    "    xResample = xResample.astype(int)\n",
    "    yResample = yResample.astype(int)\n",
    "    ## Rebuild feature \n",
    "    featureSchema = StructType([\n",
    "      StructField(\"features\", ArrayType(IntegerType()), True),\n",
    "    ])\n",
    "\n",
    "    df_feature = spark.createDataFrame(xResample.tolist(),schema=featureSchema)\n",
    "    ## Rebulid label\n",
    "    labelSchema = StructType([\n",
    "      StructField(\"label\", IntegerType(), True),\n",
    "    ])\n",
    "    \n",
    "    df_label = spark.createDataFrame(yResample.tolist(),schema=labelSchema)\n",
    "    ## Combine two dataframe with a outter key\n",
    "    df1 = df_feature.withColumn(\"id\", monotonically_increasing_id())\n",
    "    df2 = df_label.withColumn(\"id\", monotonically_increasing_id())\n",
    "    df_data = df2.join(df1, \"id\", \"outer\").drop(\"id\")\n",
    "    df_data.show()\n",
    "    ### Transform the feature type into vector(which can be regnonized by the training model)\n",
    "    list_to_vector_udf = udf(lambda l: Vectors.dense(l), VectorUDT())\n",
    "    df_data = df_data.select( \n",
    "    df_data[\"label\"],\n",
    "    list_to_vector_udf(df_data[\"features\"]).alias(\"features\")\n",
    "    )\n",
    "    return df_data\n",
    "### RainIntensity Training Data\n",
    "rainIntensity_DF = rainIntensity_SMOTE_PROCESS(rainIntensity_trainingData1)\n",
    "### Resample the dataset\n",
    "from pyspark.sql.functions import col\n",
    "df_class_0 = rainIntensity_DF.where(rainIntensity_DF.label == 0).select(col(\"features\"),col(\"label\"))\n",
    "df_class_1 = rainIntensity_DF.where(rainIntensity_DF.label == 1).select(col(\"features\"),col(\"label\"))\n",
    "df_class_2 = rainIntensity_DF.where(rainIntensity_DF.label == 2).select(col(\"features\"),col(\"label\"))\n",
    "df_class_3 = rainIntensity_DF.where(rainIntensity_DF.label == 3).select(col(\"features\"),col(\"label\"))\n",
    "# Sample 5% of dataset as training data --> approximately 40000 each class\n",
    "df_class_0_over = df_class_0.sample(fraction=0.044,seed=123)\n",
    "df_class_1_over = df_class_1.sample(fraction=0.211,seed=234)\n",
    "df_class_3_over = df_class_3.sample(fraction=0.6968,seed=567)\n",
    "# # Combine\n",
    "df_train_over = df_class_0_over.union(df_class_1_over)\n",
    "df_train_over = df_train_over.union(df_class_2)\n",
    "df_train_rainIntensity = df_train_over.union(df_class_3_over)\n",
    "df_train_rainIntensity.show()\n",
    "# Dataset label class distribution after resampling\n",
    "df_train_rainIntensity.groupBy('label').count().sort('label').show()"
   ]
  },
  {
   "cell_type": "markdown",
   "metadata": {},
   "source": [
    "###### B. Rain Intensity Test Data"
   ]
  },
  {
   "cell_type": "code",
   "execution_count": 18,
   "metadata": {},
   "outputs": [
    {
     "name": "stdout",
     "output_type": "stream",
     "text": [
      "+-----+-----+\n",
      "|label|count|\n",
      "+-----+-----+\n",
      "|  0.0| 6136|\n",
      "|  1.0| 1276|\n",
      "|  2.0|   40|\n",
      "|  3.0|  402|\n",
      "+-----+-----+\n",
      "\n"
     ]
    }
   ],
   "source": [
    "# Original dataset label's classes distribution\n",
    "rainIntensity_testData1.groupBy('label').count().sort('label').show()"
   ]
  },
  {
   "cell_type": "code",
   "execution_count": 19,
   "metadata": {},
   "outputs": [
    {
     "name": "stdout",
     "output_type": "stream",
     "text": [
      "+--------------------+-----+\n",
      "|            features|label|\n",
      "+--------------------+-----+\n",
      "|(10,[0,5,7,8,9],[...|  0.0|\n",
      "|[9.349,0.0,1.0,0....|  0.0|\n",
      "|(10,[0,2,5,7],[10...|  0.0|\n",
      "|[17.815,0.0,1.0,0...|  0.0|\n",
      "|[30.727,2.0,0.0,0...|  0.0|\n",
      "|(10,[0,5,7,8,9],[...|  0.0|\n",
      "|(10,[0,5,7,8,9],[...|  0.0|\n",
      "|(10,[0,5,7,8,9],[...|  0.0|\n",
      "|(10,[0,2,5,7,8],[...|  0.0|\n",
      "|[79.235,0.0,1.0,0...|  0.0|\n",
      "|[96.429,5.0,1.0,0...|  0.0|\n",
      "|(10,[0,7,8,9],[12...|  0.0|\n",
      "|(10,[0,5,7,8,9],[...|  0.0|\n",
      "|[130.53,5.0,1.0,0...|  0.0|\n",
      "|(10,[0,5,7,8,9],[...|  0.0|\n",
      "|[147.86,0.0,1.0,0...|  0.0|\n",
      "|(10,[0,7,8,9],[14...|  0.0|\n",
      "|[150.16,5.0,1.0,0...|  0.0|\n",
      "|[176.85,2.0,0.0,0...|  0.0|\n",
      "|[180.76,5.0,1.0,0...|  0.0|\n",
      "+--------------------+-----+\n",
      "only showing top 20 rows\n",
      "\n",
      "+-----+-----+\n",
      "|label|count|\n",
      "+-----+-----+\n",
      "|  0.0|  653|\n",
      "|  1.0|   49|\n",
      "|  2.0|    3|\n",
      "|  3.0|   15|\n",
      "+-----+-----+\n",
      "\n"
     ]
    }
   ],
   "source": [
    "### Rain Intensity Testing Data\n",
    "### Resample the dataset\n",
    "# from pyspark.sql.functions import col\n",
    "df_class_0 = rainIntensity_testData1.where(rainIntensity_testData1.label == 0).select(col(\"features\"),col(\"label\"))\n",
    "df_class_1 = rainIntensity_testData1.where(rainIntensity_testData1.label == 1).select(col(\"features\"),col(\"label\"))\n",
    "df_class_2 = rainIntensity_testData1.where(rainIntensity_testData1.label == 2).select(col(\"features\"),col(\"label\"))\n",
    "df_class_3 = rainIntensity_testData1.where(rainIntensity_testData1.label == 3).select(col(\"features\"),col(\"label\"))\n",
    "\n",
    "# # Sample smaller dataset as training data --> 5000 each class\n",
    "df_class_0_over = df_class_0.sample(fraction=0.11119,seed=234)\n",
    "df_class_1_over = df_class_1.sample(fraction=0.03499,seed=456)\n",
    "df_class_2_over = df_class_2.sample(fraction=0.03723,seed=567)\n",
    "df_class_3_over = df_class_3.sample(fraction=0.02576,seed=456)\n",
    "\n",
    "# # # Combine\n",
    "df_test_over = df_class_0_over.union(df_class_1_over)\n",
    "df_test_over = df_test_over.union(df_class_2_over)\n",
    "df_test_rainIntensity = df_test_over.union(df_class_3_over)\n",
    "df_test_rainIntensity.show()\n",
    "# Dataset label's classess ditribution after resampling\n",
    "df_test_rainIntensity.groupBy('label').count().sort('label').show()"
   ]
  },
  {
   "cell_type": "markdown",
   "metadata": {},
   "source": [
    "#### 3.3.2(3) T3 - Driver Wellbeing Resampling based on SMOTE"
   ]
  },
  {
   "cell_type": "markdown",
   "metadata": {},
   "source": [
    "######  A. Driver Wellbeing Train Data"
   ]
  },
  {
   "cell_type": "code",
   "execution_count": 20,
   "metadata": {},
   "outputs": [
    {
     "name": "stdout",
     "output_type": "stream",
     "text": [
      "+-----+--------------------+\n",
      "|label|            features|\n",
      "+-----+--------------------+\n",
      "|    5|[10, 0, 0, 0, 4, ...|\n",
      "|    6|[13, 0, 0, 0, 0, ...|\n",
      "|    7|[190, 0, 0, 0, 0,...|\n",
      "|    4|[399, 0, 0, 0, 1,...|\n",
      "|    8|[716, 0, 0, 0, 0,...|\n",
      "|    7|[725, 4, 1, 0, 0,...|\n",
      "|    7|[773, 4, 1, 0, 0,...|\n",
      "|    4|[831, 2, 0, 1, 0,...|\n",
      "|    8|[874, 0, 0, 0, 0,...|\n",
      "|    4|[963, 4, 0, 1, 0,...|\n",
      "|    5|[974, 5, 0, 0, 0,...|\n",
      "|    7|[1072, 5, 1, 0, 0...|\n",
      "|    4|[1099, 0, 0, 0, 1...|\n",
      "|    7|[1108, 0, 4, 1, 0...|\n",
      "|    4|[1282, 0, 0, 0, 1...|\n",
      "|    8|[1386, 5, 1, 0, 0...|\n",
      "|    6|[1506, 5, 1, 0, 0...|\n",
      "|    5|[1606, 0, 0, 0, 1...|\n",
      "|    6|[1610, 4, 1, 0, 0...|\n",
      "|    5|[1671, 3, 0, 0, 0...|\n",
      "+-----+--------------------+\n",
      "only showing top 20 rows\n",
      "\n",
      "+--------------------+-----+\n",
      "|            features|label|\n",
      "+--------------------+-----+\n",
      "|[91.0,2.0,0.0,0.0...|    2|\n",
      "|[18.0,0.0,0.0,0.0...|    2|\n",
      "|[87.0,0.0,0.0,0.0...|    2|\n",
      "|[137.0,0.0,0.0,0....|    2|\n",
      "|[65.0,0.0,0.0,0.0...|    2|\n",
      "|[119.0,1.0,0.0,0....|    2|\n",
      "|[91.0,2.0,0.0,0.0...|    2|\n",
      "|[39.0,0.0,0.0,0.0...|    2|\n",
      "|[158.0,1.0,0.0,0....|    2|\n",
      "|[100.0,2.0,0.0,0....|    2|\n",
      "|[95.0,3.0,0.0,0.0...|    2|\n",
      "|[39.0,0.0,0.0,0.0...|    2|\n",
      "|[30.0,0.0,0.0,0.0...|    2|\n",
      "|[91.0,2.0,0.0,0.0...|    2|\n",
      "|[12.0,0.0,0.0,0.0...|    2|\n",
      "|[45.0,0.0,0.0,0.0...|    2|\n",
      "|[98.0,1.0,0.0,0.0...|    2|\n",
      "|[118.0,0.0,0.0,0....|    2|\n",
      "|[145.0,0.0,0.0,0....|    2|\n",
      "|[39.0,0.0,0.0,0.0...|    2|\n",
      "+--------------------+-----+\n",
      "only showing top 20 rows\n",
      "\n",
      "+-----+-----+\n",
      "|label|count|\n",
      "+-----+-----+\n",
      "|    2|  250|\n",
      "|    3|  238|\n",
      "|    4|  248|\n",
      "|    5|  256|\n",
      "|    6|  254|\n",
      "|    7|  259|\n",
      "|    8|  252|\n",
      "+-----+-----+\n",
      "\n"
     ]
    }
   ],
   "source": [
    "#######################\n",
    "##### Input: Dataset with different number of multiple label classes\n",
    "##### Output: Dataset with same number of multiple label classes\n",
    "#######################\n",
    "def DriverWellbeing_SMOTE_PROCESS(training_dataset):\n",
    "    # Extract label and features\n",
    "    y = np.array(training_dataset.select('label').collect())\n",
    "    X = np.array(training_dataset.select('features').collect())\n",
    "    # Reshape array's size (SMOTE function only take 2d array)\n",
    "    new_X = X.reshape(X.shape[0],X.shape[2])\n",
    "    new_y = y.flatten()\n",
    "    ### Set number of class going to reach for specific class\n",
    "    ##Original dataset upsampling target number\n",
    "    #X_resampled, y_resampled = SMOTE(ratio={2: 25000}).fit_sample(new_X, new_y)\n",
    "    X_resampled, y_resampled = SMOTE(sampling_strategy={2: 250}).fit_resample(new_X, new_y)\n",
    "    \n",
    "    ## Transform dataframe into spark dataframe\n",
    "    xResample = X_resampled[:, newaxis,:]\n",
    "    yResample = y_resampled[:,newaxis]\n",
    "    xResample = xResample.astype(int)\n",
    "    yResample = yResample.astype(int)\n",
    "    ## Rebuild feature \n",
    "    featureSchema = StructType([\n",
    "      StructField(\"features\", ArrayType(IntegerType()), True),\n",
    "    ])\n",
    "\n",
    "    df_feature = spark.createDataFrame(xResample.tolist(),schema=featureSchema)\n",
    "    ## Rebulid label\n",
    "    labelSchema = StructType([\n",
    "      StructField(\"label\", IntegerType(), True),\n",
    "    ])\n",
    "    \n",
    "    df_label = spark.createDataFrame(yResample.tolist(),schema=labelSchema)\n",
    "    ## Combine two dataframe with a outter key\n",
    "    df1 = df_feature.withColumn(\"id\", monotonically_increasing_id())\n",
    "    df2 = df_label.withColumn(\"id\", monotonically_increasing_id())\n",
    "    df_data = df2.join(df1, \"id\", \"outer\").drop(\"id\")\n",
    "    df_data.show()\n",
    "    ### Transform the feature type into vector(which can be regnonized by the training model)\n",
    "    list_to_vector_udf = udf(lambda l: Vectors.dense(l), VectorUDT())\n",
    "    df_data = df_data.select( \n",
    "    df_data[\"label\"],\n",
    "    list_to_vector_udf(df_data[\"features\"]).alias(\"features\")\n",
    "    )\n",
    "    return df_data\n",
    "\n",
    "### DriverWellbeing Training Data\n",
    "driverWellbeing_DF = DriverWellbeing_SMOTE_PROCESS(driverWellbeing_trainingData1)\n",
    "### Resample the dataset\n",
    "# from pyspark.sql.functions import col\n",
    "df_class_2 = driverWellbeing_DF.where(driverWellbeing_DF.label == 2).select(col(\"features\"),col(\"label\"))\n",
    "df_class_3 = driverWellbeing_DF.where(driverWellbeing_DF.label == 3).select(col(\"features\"),col(\"label\"))\n",
    "df_class_4 = driverWellbeing_DF.where(driverWellbeing_DF.label == 4).select(col(\"features\"),col(\"label\"))\n",
    "df_class_5 = driverWellbeing_DF.where(driverWellbeing_DF.label == 5).select(col(\"features\"),col(\"label\"))\n",
    "df_class_6 = driverWellbeing_DF.where(driverWellbeing_DF.label == 6).select(col(\"features\"),col(\"label\"))\n",
    "df_class_7 = driverWellbeing_DF.where(driverWellbeing_DF.label == 7).select(col(\"features\"),col(\"label\"))\n",
    "df_class_8 = driverWellbeing_DF.where(driverWellbeing_DF.label == 8).select(col(\"features\"),col(\"label\"))\n",
    "\n",
    "# # Sample smaller dataset as training data --> 25000 each class\n",
    "df_class_3_over = df_class_3.sample(fraction=0.4,seed=123)\n",
    "df_class_4_over = df_class_4.sample(fraction=0.127,seed=234)\n",
    "df_class_5_over = df_class_5.sample(fraction=0.136,seed=456)\n",
    "df_class_6_over = df_class_6.sample(fraction=0.094,seed=567)\n",
    "df_class_7_over = df_class_7.sample(fraction=0.0797,seed=456)\n",
    "df_class_8_over = df_class_8.sample(fraction=0.187,seed=567)\n",
    "# # # Combine\n",
    "df_train_over = df_class_2.union(df_class_3_over)\n",
    "df_train_over = df_train_over.union(df_class_4_over)\n",
    "df_train_over = df_train_over.union(df_class_5_over)\n",
    "df_train_over = df_train_over.union(df_class_6_over)\n",
    "df_train_over = df_train_over.union(df_class_7_over)\n",
    "df_train_driverWellbeing = df_train_over.union(df_class_8_over)\n",
    "df_train_driverWellbeing.show()\n",
    "# Dataset label's classes distribution after resampling\n",
    "df_train_driverWellbeing.groupBy('label').count().sort('label').show()"
   ]
  },
  {
   "cell_type": "markdown",
   "metadata": {},
   "source": [
    "###### B. Driver Wellbeing Test Data"
   ]
  },
  {
   "cell_type": "code",
   "execution_count": 21,
   "metadata": {},
   "outputs": [
    {
     "name": "stdout",
     "output_type": "stream",
     "text": [
      "+-----+-----+\n",
      "|label|count|\n",
      "+-----+-----+\n",
      "|  2.0|   36|\n",
      "|  3.0|  420|\n",
      "|  4.0| 1305|\n",
      "|  5.0| 1240|\n",
      "|  6.0| 1697|\n",
      "|  7.0| 2101|\n",
      "|  8.0|  941|\n",
      "+-----+-----+\n",
      "\n"
     ]
    }
   ],
   "source": [
    "# Origianl dataset label's classes ditribution\n",
    "driverWellbeing_testData1.groupBy('label').count().sort('label').show()"
   ]
  },
  {
   "cell_type": "code",
   "execution_count": 22,
   "metadata": {},
   "outputs": [
    {
     "name": "stdout",
     "output_type": "stream",
     "text": [
      "+--------------------+-----+\n",
      "|            features|label|\n",
      "+--------------------+-----+\n",
      "|[5.598,0.0,0.0,0....|  2.0|\n",
      "|[15.906,0.0,0.0,0...|  2.0|\n",
      "|[25.066,0.0,0.0,0...|  2.0|\n",
      "|(10,[0,4,6,7,8],[...|  2.0|\n",
      "|(10,[0,4,6,7,8],[...|  2.0|\n",
      "|[36.027,0.0,0.0,0...|  2.0|\n",
      "|[51.607,2.0,0.0,0...|  2.0|\n",
      "|[54.997,0.0,0.0,0...|  2.0|\n",
      "|[56.177,0.0,0.0,0...|  2.0|\n",
      "|[62.678,1.0,0.0,0...|  2.0|\n",
      "|[63.767,1.0,0.0,0...|  2.0|\n",
      "|[66.967,2.0,0.0,0...|  2.0|\n",
      "|[85.517,2.0,0.0,0...|  2.0|\n",
      "|[89.358,2.0,0.0,0...|  2.0|\n",
      "|[93.689,0.0,0.0,0...|  2.0|\n",
      "|[94.427,3.0,0.0,0...|  2.0|\n",
      "|[108.91,0.0,0.0,0...|  2.0|\n",
      "|[109.51,3.0,0.0,0...|  2.0|\n",
      "|[112.01,1.0,0.0,0...|  2.0|\n",
      "|[113.52,0.0,0.0,0...|  2.0|\n",
      "+--------------------+-----+\n",
      "only showing top 20 rows\n",
      "\n",
      "+-----+-----+\n",
      "|label|count|\n",
      "+-----+-----+\n",
      "|  2.0|   36|\n",
      "|  3.0|   42|\n",
      "|  4.0|   50|\n",
      "|  5.0|   44|\n",
      "|  6.0|   52|\n",
      "|  7.0|   45|\n",
      "|  8.0|   48|\n",
      "+-----+-----+\n",
      "\n"
     ]
    }
   ],
   "source": [
    "### Driver Wellbeing Testing Data\n",
    "### Resample the dataset\n",
    "# from pyspark.sql.functions import col\n",
    "df_class_2 = driverWellbeing_testData1.where(driverWellbeing_testData1.label == 2).select(col(\"features\"),col(\"label\"))\n",
    "df_class_3 = driverWellbeing_testData1.where(driverWellbeing_testData1.label == 3).select(col(\"features\"),col(\"label\"))\n",
    "df_class_4 = driverWellbeing_testData1.where(driverWellbeing_testData1.label == 4).select(col(\"features\"),col(\"label\"))\n",
    "df_class_5 = driverWellbeing_testData1.where(driverWellbeing_testData1.label == 5).select(col(\"features\"),col(\"label\"))\n",
    "df_class_6 = driverWellbeing_testData1.where(driverWellbeing_testData1.label == 6).select(col(\"features\"),col(\"label\"))\n",
    "df_class_7 = driverWellbeing_testData1.where(driverWellbeing_testData1.label == 7).select(col(\"features\"),col(\"label\"))\n",
    "df_class_8 = driverWellbeing_testData1.where(driverWellbeing_testData1.label == 8).select(col(\"features\"),col(\"label\"))\n",
    "\n",
    "# # Sample smaller dataset as training data --> 4577 each class\n",
    "df_class_3_over = df_class_3.sample(fraction=0.11119,seed=234)\n",
    "df_class_4_over = df_class_4.sample(fraction=0.03499,seed=456)\n",
    "df_class_5_over = df_class_5.sample(fraction=0.03723,seed=567)\n",
    "df_class_6_over = df_class_6.sample(fraction=0.02576,seed=456)\n",
    "df_class_7_over = df_class_7.sample(fraction=0.02187,seed=567)\n",
    "df_class_8_over = df_class_8.sample(fraction=0.05159,seed=123)\n",
    "\n",
    "# # # Combine\n",
    "df_test_over = df_class_2.union(df_class_3_over)\n",
    "df_test_over = df_test_over.union(df_class_4_over)\n",
    "df_test_over = df_test_over.union(df_class_5_over)\n",
    "df_test_over = df_test_over.union(df_class_6_over)\n",
    "df_test_over = df_test_over.union(df_class_7_over)\n",
    "df_test_driverWellbeing = df_test_over.union(df_class_8_over)\n",
    "df_test_driverWellbeing.show()\n",
    "# Dataset label's classes distribution after resampling\n",
    "df_test_driverWellbeing.groupBy('label').count().sort('label').show()"
   ]
  },
  {
   "cell_type": "markdown",
   "metadata": {},
   "source": [
    "#### 3.3.2(4) T4 - **Driver Rush** Resampling based on SMOTE "
   ]
  },
  {
   "cell_type": "markdown",
   "metadata": {},
   "source": [
    "###### A. Driver Rush trainData"
   ]
  },
  {
   "cell_type": "code",
   "execution_count": 23,
   "metadata": {},
   "outputs": [
    {
     "name": "stdout",
     "output_type": "stream",
     "text": [
      "+-----+-----+\n",
      "|label|count|\n",
      "+-----+-----+\n",
      "|  0.0| 1013|\n",
      "|  1.0|  572|\n",
      "|  2.0| 1737|\n",
      "|  3.0| 6060|\n",
      "|  4.0|  999|\n",
      "|  5.0| 1488|\n",
      "+-----+-----+\n",
      "\n"
     ]
    }
   ],
   "source": [
    "# Original dataset label's classes distribution\n",
    "driverRush_trainingData1.groupBy('label').count().sort('label').show()"
   ]
  },
  {
   "cell_type": "code",
   "execution_count": 24,
   "metadata": {},
   "outputs": [
    {
     "name": "stdout",
     "output_type": "stream",
     "text": [
      "+--------------------+-----+\n",
      "|            features|label|\n",
      "+--------------------+-----+\n",
      "|(10,[0,2,4,5,6],[...|  0.0|\n",
      "|(10,[0,4,6,8,9],[...|  0.0|\n",
      "|(10,[0,5,6,8,9],[...|  0.0|\n",
      "|(10,[0,4,6],[6.43...|  0.0|\n",
      "|(10,[0,5,6,8,9],[...|  0.0|\n",
      "|[11.087,0.0,2.0,0...|  0.0|\n",
      "|(10,[0,4,6,8,9],[...|  0.0|\n",
      "|(10,[0,4,6,8,9],[...|  0.0|\n",
      "|[12.848,1.0,2.0,0...|  0.0|\n",
      "|(10,[0,5,6,8,9],[...|  0.0|\n",
      "|(10,[0,4,6,8,9],[...|  0.0|\n",
      "|(10,[0,4,6,8,9],[...|  0.0|\n",
      "|[15.319,0.0,2.0,0...|  0.0|\n",
      "|(10,[0,4,6,8,9],[...|  0.0|\n",
      "|(10,[0,4,6,8,9],[...|  0.0|\n",
      "|[18.877,0.0,2.0,0...|  0.0|\n",
      "|(10,[0,4,6,8,9],[...|  0.0|\n",
      "|(10,[0,5,6,8,9],[...|  0.0|\n",
      "|[23.278,0.0,2.0,0...|  0.0|\n",
      "|[27.549,0.0,2.0,0...|  0.0|\n",
      "+--------------------+-----+\n",
      "only showing top 20 rows\n",
      "\n",
      "+-----+-----+\n",
      "|label|count|\n",
      "+-----+-----+\n",
      "|  0.0|  499|\n",
      "|  1.0|  508|\n",
      "|  2.0|  530|\n",
      "|  3.0|  496|\n",
      "|  4.0|  453|\n",
      "|  5.0|  518|\n",
      "+-----+-----+\n",
      "\n"
     ]
    }
   ],
   "source": [
    "### Driver Rush Training Data\n",
    "### Resample the dataset\n",
    "# from pyspark.sql.functions import col\n",
    "df_class_0 = driverRush_trainingData1.where(driverRush_trainingData1.label == 0).select(col(\"features\"),col(\"label\"))\n",
    "df_class_1 = driverRush_trainingData1.where(driverRush_trainingData1.label == 1).select(col(\"features\"),col(\"label\"))\n",
    "df_class_2 = driverRush_trainingData1.where(driverRush_trainingData1.label == 2).select(col(\"features\"),col(\"label\"))\n",
    "df_class_3 = driverRush_trainingData1.where(driverRush_trainingData1.label == 3).select(col(\"features\"),col(\"label\"))\n",
    "df_class_4 = driverRush_trainingData1.where(driverRush_trainingData1.label == 4).select(col(\"features\"),col(\"label\"))\n",
    "df_class_5 = driverRush_trainingData1.where(driverRush_trainingData1.label == 5).select(col(\"features\"),col(\"label\"))\n",
    "\n",
    "# # Sample smaller dataset as training data --> 5000 each class\n",
    "# df_class_0_over = df_class_0.sample(fraction=0.0492,seed=123)\n",
    "# df_class_1_over = df_class_1.sample(fraction=0.0894,seed=234)\n",
    "# df_class_2_over = df_class_2.sample(fraction=0.02938,seed=456)\n",
    "# df_class_3_over = df_class_3.sample(fraction=0.00852,seed=567)\n",
    "# df_class_4_over = df_class_4.sample(fraction=0.0483,seed=456)\n",
    "# df_class_5_over = df_class_5.sample(fraction=0.0344,seed=567)\n",
    "\n",
    "# Smaller test dataset\n",
    "# # Sample smaller dataset as training data --> 5000 each class\n",
    "df_class_0_over = df_class_0.sample(fraction=0.492,seed=123)\n",
    "df_class_1_over = df_class_1.sample(fraction=0.894,seed=234)\n",
    "df_class_2_over = df_class_2.sample(fraction=0.2938,seed=456)\n",
    "df_class_3_over = df_class_3.sample(fraction=0.0852,seed=567)\n",
    "df_class_4_over = df_class_4.sample(fraction=0.483,seed=456)\n",
    "df_class_5_over = df_class_5.sample(fraction=0.344,seed=567)\n",
    "# # # Combine\n",
    "df_train_over = df_class_0_over.union(df_class_1_over)\n",
    "df_train_over = df_train_over.union(df_class_2_over)\n",
    "df_train_over = df_train_over.union(df_class_3_over)\n",
    "df_train_over = df_train_over.union(df_class_4_over)\n",
    "df_train_driverRush = df_train_over.union(df_class_5_over)\n",
    "df_train_driverRush.show()\n",
    "# Dataset label's classes distribution after resampling\n",
    "df_train_driverRush.groupBy('label').count().sort('label').show()"
   ]
  },
  {
   "cell_type": "markdown",
   "metadata": {},
   "source": [
    "###### B. Driver Rush Test Data"
   ]
  },
  {
   "cell_type": "code",
   "execution_count": 25,
   "metadata": {
    "scrolled": true
   },
   "outputs": [
    {
     "name": "stdout",
     "output_type": "stream",
     "text": [
      "+-----+-----+\n",
      "|label|count|\n",
      "+-----+-----+\n",
      "|  0.0|  642|\n",
      "|  1.0|  386|\n",
      "|  2.0| 1094|\n",
      "|  3.0| 4044|\n",
      "|  4.0|  680|\n",
      "|  5.0|  954|\n",
      "+-----+-----+\n",
      "\n"
     ]
    }
   ],
   "source": [
    "# Original dataset label's classes distribution\n",
    "driverRush_testData1.groupBy('label').count().sort('label').show()"
   ]
  },
  {
   "cell_type": "code",
   "execution_count": 26,
   "metadata": {},
   "outputs": [
    {
     "name": "stdout",
     "output_type": "stream",
     "text": [
      "+--------------------+-----+\n",
      "|            features|label|\n",
      "+--------------------+-----+\n",
      "|(10,[0,4,5,6,9],[...|  0.0|\n",
      "|[4.539,0.0,2.0,0....|  0.0|\n",
      "|[13.559,1.0,2.0,0...|  0.0|\n",
      "|(10,[0,4,6,8,9],[...|  0.0|\n",
      "|(10,[0,5,6,8,9],[...|  0.0|\n",
      "|[17.559,2.0,2.0,0...|  0.0|\n",
      "|(10,[0,4,6,8,9],[...|  0.0|\n",
      "|[39.317,1.0,2.0,0...|  0.0|\n",
      "|[46.867,0.0,2.0,0...|  0.0|\n",
      "|[48.757,2.0,0.0,0...|  0.0|\n",
      "|[51.579,0.0,2.0,0...|  0.0|\n",
      "|[56.027,3.0,0.0,0...|  0.0|\n",
      "|[58.467,2.0,2.0,0...|  0.0|\n",
      "|(10,[0,5,6,8,9],[...|  0.0|\n",
      "|[81.906,0.0,0.0,0...|  0.0|\n",
      "|[86.964,0.0,0.0,0...|  0.0|\n",
      "|[96.388,0.0,2.0,0...|  0.0|\n",
      "|(10,[0,4,6,8,9],[...|  0.0|\n",
      "|[106.97,5.0,2.0,0...|  0.0|\n",
      "|[115.29,2.0,0.0,0...|  0.0|\n",
      "+--------------------+-----+\n",
      "only showing top 20 rows\n",
      "\n",
      "+-----+-----+\n",
      "|label|count|\n",
      "+-----+-----+\n",
      "|  0.0|  205|\n",
      "|  1.0|  212|\n",
      "|  2.0|  185|\n",
      "|  3.0|  206|\n",
      "|  4.0|  178|\n",
      "|  5.0|  195|\n",
      "+-----+-----+\n",
      "\n"
     ]
    }
   ],
   "source": [
    "### Driver Rush Test Data\n",
    "### Resample the dataset\n",
    "# from pyspark.sql.functions import col\n",
    "df_class_0 = driverRush_testData1.where(driverRush_testData1.label == 0).select(col(\"features\"),col(\"label\"))\n",
    "df_class_1 = driverRush_testData1.where(driverRush_testData1.label == 1).select(col(\"features\"),col(\"label\"))\n",
    "df_class_2 = driverRush_testData1.where(driverRush_testData1.label == 2).select(col(\"features\"),col(\"label\"))\n",
    "df_class_3 = driverRush_testData1.where(driverRush_testData1.label == 3).select(col(\"features\"),col(\"label\"))\n",
    "df_class_4 = driverRush_testData1.where(driverRush_testData1.label == 4).select(col(\"features\"),col(\"label\"))\n",
    "df_class_5 = driverRush_testData1.where(driverRush_testData1.label == 5).select(col(\"features\"),col(\"label\"))\n",
    "\n",
    "# Original dataset test sampling parameter\n",
    "# df_class_0_over = df_class_0.sample(fraction=0.0294,seed=123)\n",
    "# df_class_1_over = df_class_1.sample(fraction=0.0532,seed=234)\n",
    "# df_class_2_over = df_class_2.sample(fraction=0.01767,seed=456)\n",
    "# df_class_3_over = df_class_3.sample(fraction=0.00511,seed=567)\n",
    "# df_class_4_over = df_class_4.sample(fraction=0.0293,seed=456)\n",
    "# df_class_5_over = df_class_5.sample(fraction=0.0205,seed=567)\n",
    "\n",
    "# Smaller dataset test sampling parameter\n",
    "df_class_0_over = df_class_0.sample(fraction=0.294,seed=123)\n",
    "df_class_1_over = df_class_1.sample(fraction=0.532,seed=234)\n",
    "df_class_2_over = df_class_2.sample(fraction=0.1767,seed=456)\n",
    "df_class_3_over = df_class_3.sample(fraction=0.0511,seed=567)\n",
    "df_class_4_over = df_class_4.sample(fraction=0.293,seed=456)\n",
    "df_class_5_over = df_class_5.sample(fraction=0.205,seed=567)\n",
    "# # # Combine\n",
    "df_test_over = df_class_0_over.union(df_class_1_over)\n",
    "df_test_over = df_test_over.union(df_class_2_over)\n",
    "df_test_over = df_test_over.union(df_class_3_over)\n",
    "df_test_over = df_test_over.union(df_class_4_over)\n",
    "df_test_driverRush = df_test_over.union(df_class_5_over)\n",
    "df_test_driverRush.show()\n",
    "# Dataset label's classes distribution after resampling\n",
    "df_test_driverRush.groupBy('label').count().sort('label').show()"
   ]
  },
  {
   "cell_type": "markdown",
   "metadata": {},
   "source": [
    "# 4. Build Models"
   ]
  },
  {
   "cell_type": "markdown",
   "metadata": {},
   "source": [
    "## 4.0 Train & Test Definition"
   ]
  },
  {
   "cell_type": "code",
   "execution_count": null,
   "metadata": {},
   "outputs": [],
   "source": [
    "#### Original dataset train data and test data defination\n",
    "# rf_trainDF_driverWellbeing = df_train_driverWellbeing # df_train_driverRush /df_train_driverWellbeing /df_train_rainIntensity /df_train_vehicleSpeed\n",
    "# rf_test_DF_driverWellbeing = driverWellbeing_testData1\n",
    "# ### Rain Intensity Trainging and Test dataset\n",
    "# rf_trainDF_rainIntensity = df_train_rainIntensity # df_train_driverRush /df_train_driverWellbeing /df_train_rainIntensity /df_train_vehicleSpeed\n",
    "# rf_test_DF_rainIntensity = rainIntensity_testData1\n",
    "# ### Driver Rush Trainging and Test dataset\n",
    "# rf_trainDF_driverRush = df_train_driverRush # df_train_driverRush /df_train_driverWellbeing /df_train_rainIntensity /df_train_vehicleSpeed\n",
    "# rf_test_DF_driverRush = driverRush_testData1\n",
    "# ### Vehicle Speed Trainging and Test dataset\n",
    "# rf_trainDF_vehicleSpeed = df_train_vehicleSpeed # df_train_driverRush /df_train_driverWellbeing /df_train_rainIntensity /df_train_vehicleSpeed\n",
    "# rf_test_DF_vehicleSpeed = vehicleSpeed_testData1 # df_test_driverRush /df_test_driverWellbeing /df_test_rainIntensity /df_test_vehicleSpeed\n"
   ]
  },
  {
   "cell_type": "code",
   "execution_count": 38,
   "metadata": {},
   "outputs": [],
   "source": [
    "################## Smaller dataset used only(Used for simply run through the whole process)\n",
    "### Driver Wellbeing Trainging\n",
    "rf_trainDF_driverWellbeing = df_train_driverWellbeing # df_train_driverRush /df_train_driverWellbeing /df_train_rainIntensity /df_train_vehicleSpeed\n",
    "\n",
    "### Rain Intensity Trainging\n",
    "rf_trainDF_rainIntensity = df_train_rainIntensity # df_train_driverRush /df_train_driverWellbeing /df_train_rainIntensity /df_train_vehicleSpeed\n",
    "\n",
    "### Driver Rush Trainging\n",
    "rf_trainDF_driverRush = df_train_driverRush # df_train_driverRush /df_train_driverWellbeing /df_train_rainIntensity /df_train_vehicleSpeed\n",
    "\n",
    "### Vehicle Speed Trainging\n",
    "rf_trainDF_vehicleSpeed = df_train_vehicleSpeed # df_train_driverRush /df_train_driverWellbeing /df_train_rainIntensity /df_train_vehicleSpeed\n",
    "\n",
    "### Test Dataset\n",
    "\n",
    "\n",
    "\n",
    "\n"
   ]
  },
  {
   "cell_type": "markdown",
   "metadata": {},
   "source": [
    "## 4.1 Train Models / Load Models"
   ]
  },
  {
   "cell_type": "code",
   "execution_count": 45,
   "metadata": {},
   "outputs": [],
   "source": [
    "# Train a random forest model(You can train the model if you want to, smaller dataset still need some time to do it\n",
    "                             # but it's much faster than training with the original dataset\n",
    "# rf_model_rainIntensity = rf.fit(rf_trainDF_rainIntensity)\n",
    "# rf_model_driverWellbeing = rf.fit(rf_trainDF_rainIntensity)\n",
    "# rf_model_driverRush = rf.fit(rf_trainDF_driverRush)\n",
    "# rf_model_vehicleSpeed = rf.fit(rf_trainDF_vehicleSpeed)\n",
    "\n"
   ]
  },
  {
   "cell_type": "code",
   "execution_count": 39,
   "metadata": {},
   "outputs": [],
   "source": [
    "# Load Models\n",
    "rf_model_rainIntensity = RandomForestClassificationModel.load('../Models/RandomForest_RainIntensity')\n",
    "rf_model_driverRush = RandomForestClassificationModel.load('../Models/RandomForest_DriverRush')\n",
    "rf_model_driverWellbeing = RandomForestClassificationModel.load('../Models/RandomForest_DriverWellbeing')\n",
    "rf_model_vehicleSpeed = RandomForestClassificationModel.load('../Models/RandomForest_VehicleSpeed')\n"
   ]
  },
  {
   "cell_type": "markdown",
   "metadata": {},
   "source": [
    "## 4.2 Make Predictions"
   ]
  },
  {
   "cell_type": "markdown",
   "metadata": {},
   "source": [
    "**4.2.1**\n",
    "    Smaller Dataset Predicitons"
   ]
  },
  {
   "cell_type": "code",
   "execution_count": 46,
   "metadata": {},
   "outputs": [],
   "source": [
    "test_df = vehicleSpeed_testData1.sample(fraction=0.15,seed=123)"
   ]
  },
  {
   "cell_type": "code",
   "execution_count": 49,
   "metadata": {},
   "outputs": [],
   "source": [
    "# Predictions for random forest\n",
    "rf_predictions_rainInensity =  rf_model_rainIntensity.transform(test_df)\n",
    "\n",
    "# Predictions for random forest\n",
    "rf_predictions_driverWellbeing =  rf_model_driverWellbeing.transform(test_df)\n",
    "\n",
    "# Predictions for random forest\n",
    "rf_predictions_driverRush =  rf_model_driverRush.transform(test_df)\n",
    "\n",
    "# Predictions for random forest\n",
    "rf_predictions_vehicleSpeed =  rf_model_vehicleSpeed.transform(test_df)\n"
   ]
  },
  {
   "cell_type": "markdown",
   "metadata": {},
   "source": [
    "## 4.4 Performance Evaluation"
   ]
  },
  {
   "cell_type": "code",
   "execution_count": 31,
   "metadata": {},
   "outputs": [],
   "source": [
    "predictions = rf_predictions_vehicleSpeed # the predictions you want to evaluate"
   ]
  },
  {
   "cell_type": "markdown",
   "metadata": {},
   "source": [
    "## 4.5 Confusion Matrixes"
   ]
  },
  {
   "cell_type": "code",
   "execution_count": 33,
   "metadata": {},
   "outputs": [],
   "source": [
    "from sklearn.metrics import confusion_matrix\n",
    "# True Label\n",
    "y_true = predictions.select(\"label\")\n",
    "y_true = y_true.toPandas()\n",
    "\n",
    "# predicted Label\n",
    "y_pred = predictions.select(\"prediction\")\n",
    "y_pred = y_pred.toPandas()\n",
    "\n",
    "\n",
    "# class\n",
    "class_temp = predictions.select(\"label\").groupBy(\"label\")\\\n",
    "                            .count().sort('count', ascending=False).toPandas()\n",
    "class_temp = class_temp[\"label\"].values.tolist()\n",
    "class_names = map(str, class_temp)\n",
    "\n",
    "# confusion matrixes\n",
    "cnf_matrix = confusion_matrix(y_true, y_pred,labels=class_temp)\n"
   ]
  },
  {
   "cell_type": "code",
   "execution_count": 34,
   "metadata": {},
   "outputs": [
    {
     "name": "stdout",
     "output_type": "stream",
     "text": [
      "Confusion matrix, without normalization\n",
      "[[22  0  0  0  9  1  6  0 17  0]\n",
      " [ 1 48  0  0  2  0  0  0  0  0]\n",
      " [ 0  0 50  0  0  0  0  0  0  0]\n",
      " [ 0  0  0 31 14  0  0  4  0  0]\n",
      " [ 1  0  0  1 37  0  0  0  9  0]\n",
      " [ 0  0  0  0  9 34  4  0  0  0]\n",
      " [ 4  0  0  0  4  6 30  0  1  0]\n",
      " [ 0  0  0  1  3  0  0 39  0  0]\n",
      " [ 0  0  0  0  6  0  4  0 33  0]\n",
      " [ 0  0  0  0  0  0  0  0  0 34]]\n"
     ]
    },
    {
     "data": {
      "image/png": "[encoded data removed]",
      "text/plain": [
       "<Figure size 1080x1080 with 2 Axes>"
      ]
     },
     "metadata": {
      "needs_background": "light"
     },
     "output_type": "display_data"
    }
   ],
   "source": [
    "import matplotlib.pyplot as plt\n",
    "import numpy as np\n",
    "import itertools\n",
    "\n",
    "from matplotlib.pyplot import MultipleLocator\n",
    "from sklearn.metrics import recall_score,accuracy_score, f1_score,  precision_score\n",
    "\n",
    "def plot_confusion_matrix(cm, classes,\n",
    "                          normalize=False,\n",
    "                          title='',\n",
    "                          cmap=plt.cm.Blues):\n",
    "    \"\"\"\n",
    "    This function prints and plots the confusion matrix.\n",
    "    Normalization can be applied by setting `normalize=True`.\n",
    "    \"\"\"\n",
    "    if normalize:\n",
    "        cm = cm.astype('float') / cm.sum(axis=1)[:, np.newaxis]\n",
    "        print(\"Normalized confusion matrix\")\n",
    "    else:\n",
    "        print('Confusion matrix, without normalization')\n",
    "\n",
    "    print(cm)\n",
    "\n",
    "    plt.imshow(cm, interpolation='nearest', cmap=cmap)\n",
    "    plt.title(title)\n",
    "    plt.colorbar()\n",
    "    tick_marks = np.arange(len(classes))\n",
    "    plt.xticks(tick_marks, classes, rotation=45)\n",
    "    plt.yticks(tick_marks, classes)\n",
    "\n",
    "    fmt = '.2f' if normalize else 'd'\n",
    "    thresh = cm.max() / 2.\n",
    "    for i, j in itertools.product(range(cm.shape[0]), range(cm.shape[1])):\n",
    "        plt.text(j, i, format(cm[i, j], fmt),\n",
    "                 horizontalalignment=\"center\",fontsize=15,\n",
    "                 color=\"white\" if cm[i, j] > thresh else \"black\")\n",
    "\n",
    "    plt.ylabel('True label',fontsize=20)\n",
    "    plt.xlabel('Predicted label',fontsize=20)\n",
    "    \n",
    "\n",
    "\n",
    "\n",
    "fig = plt.figure(figsize=(15,15))\n",
    "plot_confusion_matrix(cnf_matrix, classes=class_temp)\n",
    "plt.show()"
   ]
  },
  {
   "cell_type": "markdown",
   "metadata": {},
   "source": [
    "## 4.5 Prediction Results Demonstration (optional)"
   ]
  },
  {
   "cell_type": "code",
   "execution_count": 46,
   "metadata": {},
   "outputs": [
    {
     "name": "stdout",
     "output_type": "stream",
     "text": [
      "+--------------------+-----+--------------------+--------------------+----------+\n",
      "|            features|label|       rawPrediction|         probability|prediction|\n",
      "+--------------------+-----+--------------------+--------------------+----------+\n",
      "|(9,[3,4,5,7],[3.0...|    0|[1.0,0.0,0.0,0.0,...|[1.0,0.0,0.0,0.0,...|       0.0|\n",
      "|(9,[3,4,5,7],[3.0...|    0|[1.0,0.0,0.0,0.0,...|[1.0,0.0,0.0,0.0,...|       0.0|\n",
      "|(9,[3,4,5,7],[3.0...|    0|[1.0,0.0,0.0,0.0,...|[1.0,0.0,0.0,0.0,...|       0.0|\n",
      "|(9,[3,4,5,7],[3.0...|    0|[1.0,0.0,0.0,0.0,...|[1.0,0.0,0.0,0.0,...|       0.0|\n",
      "|(9,[3,4,5,7],[3.0...|    0|[1.0,0.0,0.0,0.0,...|[1.0,0.0,0.0,0.0,...|       0.0|\n",
      "|(9,[3,4,5,7],[3.0...|    0|[1.0,0.0,0.0,0.0,...|[1.0,0.0,0.0,0.0,...|       0.0|\n",
      "|(9,[3,4,5,7],[3.0...|    0|[1.0,0.0,0.0,0.0,...|[1.0,0.0,0.0,0.0,...|       0.0|\n",
      "|(9,[3,4,5,7],[3.0...|    0|[1.0,0.0,0.0,0.0,...|[1.0,0.0,0.0,0.0,...|       0.0|\n",
      "|(9,[3,4,5,7],[3.0...|    0|[1.0,0.0,0.0,0.0,...|[1.0,0.0,0.0,0.0,...|       0.0|\n",
      "|(9,[3,4,5,7],[3.0...|    0|[1.0,0.0,0.0,0.0,...|[1.0,0.0,0.0,0.0,...|       0.0|\n",
      "|(9,[3,4,5,7],[3.0...|    0|[1.0,0.0,0.0,0.0,...|[1.0,0.0,0.0,0.0,...|       0.0|\n",
      "|(9,[3,4,5,7],[3.0...|    0|[1.0,0.0,0.0,0.0,...|[1.0,0.0,0.0,0.0,...|       0.0|\n",
      "|(9,[3,4,5,7],[3.0...|    0|[1.0,0.0,0.0,0.0,...|[1.0,0.0,0.0,0.0,...|       0.0|\n",
      "|(9,[3,4,5,7],[3.0...|    0|[1.0,0.0,0.0,0.0,...|[1.0,0.0,0.0,0.0,...|       0.0|\n",
      "|(9,[4,5,7,8],[2.0...|    0|[1.0,0.0,0.0,0.0,...|[1.0,0.0,0.0,0.0,...|       0.0|\n",
      "|(9,[4,5,7,8],[2.0...|    0|[1.0,0.0,0.0,0.0,...|[1.0,0.0,0.0,0.0,...|       0.0|\n",
      "|(9,[4,5,7,8],[2.0...|    0|[1.0,0.0,0.0,0.0,...|[1.0,0.0,0.0,0.0,...|       0.0|\n",
      "|(9,[4,5,7,8],[2.0...|    0|[1.0,0.0,0.0,0.0,...|[1.0,0.0,0.0,0.0,...|       0.0|\n",
      "|(9,[4,5,7,8],[2.0...|    0|[1.0,0.0,0.0,0.0,...|[1.0,0.0,0.0,0.0,...|       0.0|\n",
      "|(9,[4,5,7,8],[2.0...|    0|[1.0,0.0,0.0,0.0,...|[1.0,0.0,0.0,0.0,...|       0.0|\n",
      "+--------------------+-----+--------------------+--------------------+----------+\n",
      "only showing top 20 rows\n",
      "\n",
      "+--------------------+-----+--------------------+--------------------+----------+\n",
      "|            features|label|       rawPrediction|         probability|prediction|\n",
      "+--------------------+-----+--------------------+--------------------+----------+\n",
      "|(9,[3,4,5,7],[3.0...|    0|[0.01498374220428...|[0.16915373391696...|       1.0|\n",
      "|(9,[3,4,5,7],[3.0...|    0|[0.01498374220428...|[0.16915373391696...|       1.0|\n",
      "|(9,[3,4,5,7],[3.0...|    0|[0.01498374220428...|[0.16915373391696...|       1.0|\n",
      "|(9,[3,4,5,7],[3.0...|    0|[0.01498374220428...|[0.16915373391696...|       1.0|\n",
      "|(9,[3,4,5,7],[3.0...|    0|[0.01498374220428...|[0.16915373391696...|       1.0|\n",
      "|(9,[3,4,5,7],[3.0...|    0|[0.01498374220428...|[0.16915373391696...|       1.0|\n",
      "|(9,[3,4,5,7],[3.0...|    0|[0.01498374220428...|[0.16915373391696...|       1.0|\n",
      "|(9,[3,4,5,7],[3.0...|    0|[0.01498374220428...|[0.16915373391696...|       1.0|\n",
      "|(9,[3,4,5,7],[3.0...|    0|[0.01498374220428...|[0.16915373391696...|       1.0|\n",
      "|(9,[3,4,5,7],[3.0...|    0|[0.01498374220428...|[0.16915373391696...|       1.0|\n",
      "|(9,[3,4,5,7],[3.0...|    0|[0.01498374220428...|[0.16915373391696...|       1.0|\n",
      "|(9,[3,4,5,7],[3.0...|    0|[0.01498374220428...|[0.16915373391696...|       1.0|\n",
      "|(9,[3,4,5,7],[3.0...|    0|[0.01498374220428...|[0.16915373391696...|       1.0|\n",
      "|(9,[3,4,5,7],[3.0...|    0|[0.01498374220428...|[0.16915373391696...|       1.0|\n",
      "|(9,[4,5,7,8],[2.0...|    0|[0.01498374220428...|[0.16915373391696...|       1.0|\n",
      "|(9,[4,5,7,8],[2.0...|    0|[0.01498374220428...|[0.16915373391696...|       1.0|\n",
      "|(9,[4,5,7,8],[2.0...|    0|[0.01498374220428...|[0.16915373391696...|       1.0|\n",
      "|(9,[4,5,7,8],[2.0...|    0|[0.01498374220428...|[0.16915373391696...|       1.0|\n",
      "|(9,[4,5,7,8],[2.0...|    0|[0.01498374220428...|[0.16915373391696...|       1.0|\n",
      "|(9,[4,5,7,8],[2.0...|    0|[0.01498374220428...|[0.16915373391696...|       1.0|\n",
      "+--------------------+-----+--------------------+--------------------+----------+\n",
      "only showing top 20 rows\n",
      "\n",
      "+--------------------+-----+--------------------+--------------------+----------+\n",
      "|            features|label|       rawPrediction|         probability|prediction|\n",
      "+--------------------+-----+--------------------+--------------------+----------+\n",
      "|(9,[3,4,5,7],[3.0...|    0|[21.4101342917317...|[0.98871926164854...|       0.0|\n",
      "|(9,[3,4,5,7],[3.0...|    0|[21.4101342917317...|[0.98871926164854...|       0.0|\n",
      "|(9,[3,4,5,7],[3.0...|    0|[21.4101342917317...|[0.98871926164854...|       0.0|\n",
      "|(9,[3,4,5,7],[3.0...|    0|[21.4101342917317...|[0.98871926164854...|       0.0|\n",
      "|(9,[3,4,5,7],[3.0...|    0|[21.4101342917317...|[0.98871926164854...|       0.0|\n",
      "|(9,[3,4,5,7],[3.0...|    0|[21.4101342917317...|[0.98871926164854...|       0.0|\n",
      "|(9,[3,4,5,7],[3.0...|    0|[21.4101342917317...|[0.98871926164854...|       0.0|\n",
      "|(9,[3,4,5,7],[3.0...|    0|[21.4101342917317...|[0.98871926164854...|       0.0|\n",
      "|(9,[3,4,5,7],[3.0...|    0|[21.4101342917317...|[0.98871926164854...|       0.0|\n",
      "|(9,[3,4,5,7],[3.0...|    0|[21.4101342917317...|[0.98871926164854...|       0.0|\n",
      "|(9,[3,4,5,7],[3.0...|    0|[21.4101342917317...|[0.98871926164854...|       0.0|\n",
      "|(9,[3,4,5,7],[3.0...|    0|[21.4101342917317...|[0.98871926164854...|       0.0|\n",
      "|(9,[3,4,5,7],[3.0...|    0|[21.4101342917317...|[0.98871926164854...|       0.0|\n",
      "|(9,[3,4,5,7],[3.0...|    0|[21.4101342917317...|[0.98871926164854...|       0.0|\n",
      "|(9,[4,5,7,8],[2.0...|    0|[21.4053128285999...|[0.98867078803394...|       0.0|\n",
      "|(9,[4,5,7,8],[2.0...|    0|[21.4051969134680...|[0.98866960135354...|       0.0|\n",
      "|(9,[4,5,7,8],[2.0...|    0|[21.4045719380929...|[0.98866327442131...|       0.0|\n",
      "|(9,[4,5,7,8],[2.0...|    0|[21.4040750048511...|[0.98865824240213...|       0.0|\n",
      "|(9,[4,5,7,8],[2.0...|    0|[21.4042112583223...|[0.98865961533316...|       0.0|\n",
      "|(9,[4,5,7,8],[2.0...|    0|[21.4042112583223...|[0.98865961533316...|       0.0|\n",
      "+--------------------+-----+--------------------+--------------------+----------+\n",
      "only showing top 20 rows\n",
      "\n",
      "+--------------------+-----+--------------------+--------------------+----------+\n",
      "|            features|label|       rawPrediction|         probability|prediction|\n",
      "+--------------------+-----+--------------------+--------------------+----------+\n",
      "|(9,[3,4,5,7],[3.0...|    0|[5100.0,0.0,0.0,0...|[1.0,0.0,0.0,0.0,...|       0.0|\n",
      "|(9,[3,4,5,7],[3.0...|    0|[5100.0,0.0,0.0,0...|[1.0,0.0,0.0,0.0,...|       0.0|\n",
      "|(9,[3,4,5,7],[3.0...|    0|[5100.0,0.0,0.0,0...|[1.0,0.0,0.0,0.0,...|       0.0|\n",
      "|(9,[3,4,5,7],[3.0...|    0|[5100.0,0.0,0.0,0...|[1.0,0.0,0.0,0.0,...|       0.0|\n",
      "|(9,[3,4,5,7],[3.0...|    0|[5100.0,0.0,0.0,0...|[1.0,0.0,0.0,0.0,...|       0.0|\n",
      "|(9,[3,4,5,7],[3.0...|    0|[5100.0,0.0,0.0,0...|[1.0,0.0,0.0,0.0,...|       0.0|\n",
      "|(9,[3,4,5,7],[3.0...|    0|[5100.0,0.0,0.0,0...|[1.0,0.0,0.0,0.0,...|       0.0|\n",
      "|(9,[3,4,5,7],[3.0...|    0|[5100.0,0.0,0.0,0...|[1.0,0.0,0.0,0.0,...|       0.0|\n",
      "|(9,[3,4,5,7],[3.0...|    0|[5100.0,0.0,0.0,0...|[1.0,0.0,0.0,0.0,...|       0.0|\n",
      "|(9,[3,4,5,7],[3.0...|    0|[5100.0,0.0,0.0,0...|[1.0,0.0,0.0,0.0,...|       0.0|\n",
      "|(9,[3,4,5,7],[3.0...|    0|[5100.0,0.0,0.0,0...|[1.0,0.0,0.0,0.0,...|       0.0|\n",
      "|(9,[3,4,5,7],[3.0...|    0|[5100.0,0.0,0.0,0...|[1.0,0.0,0.0,0.0,...|       0.0|\n",
      "|(9,[3,4,5,7],[3.0...|    0|[5100.0,0.0,0.0,0...|[1.0,0.0,0.0,0.0,...|       0.0|\n",
      "|(9,[3,4,5,7],[3.0...|    0|[5100.0,0.0,0.0,0...|[1.0,0.0,0.0,0.0,...|       0.0|\n",
      "|(9,[4,5,7,8],[2.0...|    0|[5100.0,0.0,0.0,0...|[1.0,0.0,0.0,0.0,...|       0.0|\n",
      "|(9,[4,5,7,8],[2.0...|    0|[5100.0,0.0,0.0,0...|[1.0,0.0,0.0,0.0,...|       0.0|\n",
      "|(9,[4,5,7,8],[2.0...|    0|[5100.0,0.0,0.0,0...|[1.0,0.0,0.0,0.0,...|       0.0|\n",
      "|(9,[4,5,7,8],[2.0...|    0|[5100.0,0.0,0.0,0...|[1.0,0.0,0.0,0.0,...|       0.0|\n",
      "|(9,[4,5,7,8],[2.0...|    0|[5100.0,0.0,0.0,0...|[1.0,0.0,0.0,0.0,...|       0.0|\n",
      "|(9,[4,5,7,8],[2.0...|    0|[5100.0,0.0,0.0,0...|[1.0,0.0,0.0,0.0,...|       0.0|\n",
      "+--------------------+-----+--------------------+--------------------+----------+\n",
      "only showing top 20 rows\n",
      "\n"
     ]
    },
    {
     "ename": "Py4JJavaError",
     "evalue": "An error occurred while calling o3497.showString.\n: org.apache.spark.SparkException: Job aborted due to stage failure: Task 3 in stage 2928.0 failed 1 times, most recent failure: Lost task 3.0 in stage 2928.0 (TID 370363) (yuedembp executor driver): net.razorvine.pickle.PickleException: expected zero arguments for construction of ClassDict (for pyspark.ml.linalg.DenseVector)\n\tat net.razorvine.pickle.objects.ClassDictConstructor.construct(ClassDictConstructor.java:23)\n\tat net.razorvine.pickle.Unpickler.load_reduce(Unpickler.java:773)\n\tat net.razorvine.pickle.Unpickler.dispatch(Unpickler.java:213)\n\tat net.razorvine.pickle.Unpickler.load(Unpickler.java:123)\n\tat net.razorvine.pickle.Unpickler.loads(Unpickler.java:136)\n\tat org.apache.spark.sql.execution.python.BatchEvalPythonExec.$anonfun$evaluate$6(BatchEvalPythonExec.scala:83)\n\tat scala.collection.Iterator$$anon$11.nextCur(Iterator.scala:484)\n\tat scala.collection.Iterator$$anon$11.hasNext(Iterator.scala:490)\n\tat scala.collection.Iterator$$anon$10.hasNext(Iterator.scala:458)\n\tat scala.collection.Iterator$$anon$10.hasNext(Iterator.scala:458)\n\tat org.apache.spark.sql.catalyst.expressions.GeneratedClass$GeneratedIteratorForCodegenStage7.processNext(Unknown Source)\n\tat org.apache.spark.sql.execution.BufferedRowIterator.hasNext(BufferedRowIterator.java:43)\n\tat org.apache.spark.sql.execution.WholeStageCodegenExec$$anon$1.hasNext(WholeStageCodegenExec.scala:755)\n\tat org.apache.spark.sql.execution.SparkPlan.$anonfun$getByteArrayRdd$1(SparkPlan.scala:345)\n\tat org.apache.spark.rdd.RDD.$anonfun$mapPartitionsInternal$2(RDD.scala:898)\n\tat org.apache.spark.rdd.RDD.$anonfun$mapPartitionsInternal$2$adapted(RDD.scala:898)\n\tat org.apache.spark.rdd.MapPartitionsRDD.compute(MapPartitionsRDD.scala:52)\n\tat org.apache.spark.rdd.RDD.computeOrReadCheckpoint(RDD.scala:373)\n\tat org.apache.spark.rdd.RDD.iterator(RDD.scala:337)\n\tat org.apache.spark.scheduler.ResultTask.runTask(ResultTask.scala:90)\n\tat org.apache.spark.scheduler.Task.run(Task.scala:131)\n\tat org.apache.spark.executor.Executor$TaskRunner.$anonfun$run$3(Executor.scala:497)\n\tat org.apache.spark.util.Utils$.tryWithSafeFinally(Utils.scala:1439)\n\tat org.apache.spark.executor.Executor$TaskRunner.run(Executor.scala:500)\n\tat java.util.concurrent.ThreadPoolExecutor.runWorker(ThreadPoolExecutor.java:1149)\n\tat java.util.concurrent.ThreadPoolExecutor$Worker.run(ThreadPoolExecutor.java:624)\n\tat java.lang.Thread.run(Thread.java:748)\n\nDriver stacktrace:\n\tat org.apache.spark.scheduler.DAGScheduler.failJobAndIndependentStages(DAGScheduler.scala:2253)\n\tat org.apache.spark.scheduler.DAGScheduler.$anonfun$abortStage$2(DAGScheduler.scala:2202)\n\tat org.apache.spark.scheduler.DAGScheduler.$anonfun$abortStage$2$adapted(DAGScheduler.scala:2201)\n\tat scala.collection.mutable.ResizableArray.foreach(ResizableArray.scala:62)\n\tat scala.collection.mutable.ResizableArray.foreach$(ResizableArray.scala:55)\n\tat scala.collection.mutable.ArrayBuffer.foreach(ArrayBuffer.scala:49)\n\tat org.apache.spark.scheduler.DAGScheduler.abortStage(DAGScheduler.scala:2201)\n\tat org.apache.spark.scheduler.DAGScheduler.$anonfun$handleTaskSetFailed$1(DAGScheduler.scala:1078)\n\tat org.apache.spark.scheduler.DAGScheduler.$anonfun$handleTaskSetFailed$1$adapted(DAGScheduler.scala:1078)\n\tat scala.Option.foreach(Option.scala:407)\n\tat org.apache.spark.scheduler.DAGScheduler.handleTaskSetFailed(DAGScheduler.scala:1078)\n\tat org.apache.spark.scheduler.DAGSchedulerEventProcessLoop.doOnReceive(DAGScheduler.scala:2440)\n\tat org.apache.spark.scheduler.DAGSchedulerEventProcessLoop.onReceive(DAGScheduler.scala:2382)\n\tat org.apache.spark.scheduler.DAGSchedulerEventProcessLoop.onReceive(DAGScheduler.scala:2371)\n\tat org.apache.spark.util.EventLoop$$anon$1.run(EventLoop.scala:49)\n\tat org.apache.spark.scheduler.DAGScheduler.runJob(DAGScheduler.scala:868)\n\tat org.apache.spark.SparkContext.runJob(SparkContext.scala:2202)\n\tat org.apache.spark.SparkContext.runJob(SparkContext.scala:2223)\n\tat org.apache.spark.SparkContext.runJob(SparkContext.scala:2242)\n\tat org.apache.spark.sql.execution.SparkPlan.executeTake(SparkPlan.scala:472)\n\tat org.apache.spark.sql.execution.SparkPlan.executeTake(SparkPlan.scala:425)\n\tat org.apache.spark.sql.execution.CollectLimitExec.executeCollect(limit.scala:47)\n\tat org.apache.spark.sql.Dataset.collectFromPlan(Dataset.scala:3696)\n\tat org.apache.spark.sql.Dataset.$anonfun$head$1(Dataset.scala:2722)\n\tat org.apache.spark.sql.Dataset.$anonfun$withAction$1(Dataset.scala:3687)\n\tat org.apache.spark.sql.execution.SQLExecution$.$anonfun$withNewExecutionId$5(SQLExecution.scala:103)\n\tat org.apache.spark.sql.execution.SQLExecution$.withSQLConfPropagated(SQLExecution.scala:163)\n\tat org.apache.spark.sql.execution.SQLExecution$.$anonfun$withNewExecutionId$1(SQLExecution.scala:90)\n\tat org.apache.spark.sql.SparkSession.withActive(SparkSession.scala:772)\n\tat org.apache.spark.sql.execution.SQLExecution$.withNewExecutionId(SQLExecution.scala:64)\n\tat org.apache.spark.sql.Dataset.withAction(Dataset.scala:3685)\n\tat org.apache.spark.sql.Dataset.head(Dataset.scala:2722)\n\tat org.apache.spark.sql.Dataset.take(Dataset.scala:2929)\n\tat org.apache.spark.sql.Dataset.getRows(Dataset.scala:301)\n\tat org.apache.spark.sql.Dataset.showString(Dataset.scala:338)\n\tat sun.reflect.GeneratedMethodAccessor155.invoke(Unknown Source)\n\tat sun.reflect.DelegatingMethodAccessorImpl.invoke(DelegatingMethodAccessorImpl.java:43)\n\tat java.lang.reflect.Method.invoke(Method.java:498)\n\tat py4j.reflection.MethodInvoker.invoke(MethodInvoker.java:244)\n\tat py4j.reflection.ReflectionEngine.invoke(ReflectionEngine.java:357)\n\tat py4j.Gateway.invoke(Gateway.java:282)\n\tat py4j.commands.AbstractCommand.invokeMethod(AbstractCommand.java:132)\n\tat py4j.commands.CallCommand.execute(CallCommand.java:79)\n\tat py4j.GatewayConnection.run(GatewayConnection.java:238)\n\tat java.lang.Thread.run(Thread.java:748)\nCaused by: net.razorvine.pickle.PickleException: expected zero arguments for construction of ClassDict (for pyspark.ml.linalg.DenseVector)\n\tat net.razorvine.pickle.objects.ClassDictConstructor.construct(ClassDictConstructor.java:23)\n\tat net.razorvine.pickle.Unpickler.load_reduce(Unpickler.java:773)\n\tat net.razorvine.pickle.Unpickler.dispatch(Unpickler.java:213)\n\tat net.razorvine.pickle.Unpickler.load(Unpickler.java:123)\n\tat net.razorvine.pickle.Unpickler.loads(Unpickler.java:136)\n\tat org.apache.spark.sql.execution.python.BatchEvalPythonExec.$anonfun$evaluate$6(BatchEvalPythonExec.scala:83)\n\tat scala.collection.Iterator$$anon$11.nextCur(Iterator.scala:484)\n\tat scala.collection.Iterator$$anon$11.hasNext(Iterator.scala:490)\n\tat scala.collection.Iterator$$anon$10.hasNext(Iterator.scala:458)\n\tat scala.collection.Iterator$$anon$10.hasNext(Iterator.scala:458)\n\tat org.apache.spark.sql.catalyst.expressions.GeneratedClass$GeneratedIteratorForCodegenStage7.processNext(Unknown Source)\n\tat org.apache.spark.sql.execution.BufferedRowIterator.hasNext(BufferedRowIterator.java:43)\n\tat org.apache.spark.sql.execution.WholeStageCodegenExec$$anon$1.hasNext(WholeStageCodegenExec.scala:755)\n\tat org.apache.spark.sql.execution.SparkPlan.$anonfun$getByteArrayRdd$1(SparkPlan.scala:345)\n\tat org.apache.spark.rdd.RDD.$anonfun$mapPartitionsInternal$2(RDD.scala:898)\n\tat org.apache.spark.rdd.RDD.$anonfun$mapPartitionsInternal$2$adapted(RDD.scala:898)\n\tat org.apache.spark.rdd.MapPartitionsRDD.compute(MapPartitionsRDD.scala:52)\n\tat org.apache.spark.rdd.RDD.computeOrReadCheckpoint(RDD.scala:373)\n\tat org.apache.spark.rdd.RDD.iterator(RDD.scala:337)\n\tat org.apache.spark.scheduler.ResultTask.runTask(ResultTask.scala:90)\n\tat org.apache.spark.scheduler.Task.run(Task.scala:131)\n\tat org.apache.spark.executor.Executor$TaskRunner.$anonfun$run$3(Executor.scala:497)\n\tat org.apache.spark.util.Utils$.tryWithSafeFinally(Utils.scala:1439)\n\tat org.apache.spark.executor.Executor$TaskRunner.run(Executor.scala:500)\n\tat java.util.concurrent.ThreadPoolExecutor.runWorker(ThreadPoolExecutor.java:1149)\n\tat java.util.concurrent.ThreadPoolExecutor$Worker.run(ThreadPoolExecutor.java:624)\n\t... 1 more\n",
     "output_type": "error",
     "traceback": [
      "\u001b[0;31m---------------------------------------------------------------------------\u001b[0m",
      "\u001b[0;31mPy4JJavaError\u001b[0m                             Traceback (most recent call last)",
      "\u001b[0;32m<ipython-input-46-2985708e9187>\u001b[0m in \u001b[0;36m<module>\u001b[0;34m\u001b[0m\n\u001b[1;32m      3\u001b[0m \u001b[0mmlp_predictions\u001b[0m\u001b[0;34m.\u001b[0m\u001b[0mshow\u001b[0m\u001b[0;34m(\u001b[0m\u001b[0;34m)\u001b[0m\u001b[0;34m\u001b[0m\u001b[0;34m\u001b[0m\u001b[0m\n\u001b[1;32m      4\u001b[0m \u001b[0mdt_predictions\u001b[0m\u001b[0;34m.\u001b[0m\u001b[0mshow\u001b[0m\u001b[0;34m(\u001b[0m\u001b[0;34m)\u001b[0m\u001b[0;34m\u001b[0m\u001b[0;34m\u001b[0m\u001b[0m\n\u001b[0;32m----> 5\u001b[0;31m \u001b[0movr_predictions\u001b[0m\u001b[0;34m.\u001b[0m\u001b[0mshow\u001b[0m\u001b[0;34m(\u001b[0m\u001b[0;34m)\u001b[0m\u001b[0;34m\u001b[0m\u001b[0;34m\u001b[0m\u001b[0m\n\u001b[0m",
      "\u001b[0;32m~/opt/anaconda3/envs/BigData/lib/python3.7/site-packages/pyspark/sql/dataframe.py\u001b[0m in \u001b[0;36mshow\u001b[0;34m(self, n, truncate, vertical)\u001b[0m\n\u001b[1;32m    482\u001b[0m         \"\"\"\n\u001b[1;32m    483\u001b[0m         \u001b[0;32mif\u001b[0m \u001b[0misinstance\u001b[0m\u001b[0;34m(\u001b[0m\u001b[0mtruncate\u001b[0m\u001b[0;34m,\u001b[0m \u001b[0mbool\u001b[0m\u001b[0;34m)\u001b[0m \u001b[0;32mand\u001b[0m \u001b[0mtruncate\u001b[0m\u001b[0;34m:\u001b[0m\u001b[0;34m\u001b[0m\u001b[0;34m\u001b[0m\u001b[0m\n\u001b[0;32m--> 484\u001b[0;31m             \u001b[0mprint\u001b[0m\u001b[0;34m(\u001b[0m\u001b[0mself\u001b[0m\u001b[0;34m.\u001b[0m\u001b[0m_jdf\u001b[0m\u001b[0;34m.\u001b[0m\u001b[0mshowString\u001b[0m\u001b[0;34m(\u001b[0m\u001b[0mn\u001b[0m\u001b[0;34m,\u001b[0m \u001b[0;36m20\u001b[0m\u001b[0;34m,\u001b[0m \u001b[0mvertical\u001b[0m\u001b[0;34m)\u001b[0m\u001b[0;34m)\u001b[0m\u001b[0;34m\u001b[0m\u001b[0;34m\u001b[0m\u001b[0m\n\u001b[0m\u001b[1;32m    485\u001b[0m         \u001b[0;32melse\u001b[0m\u001b[0;34m:\u001b[0m\u001b[0;34m\u001b[0m\u001b[0;34m\u001b[0m\u001b[0m\n\u001b[1;32m    486\u001b[0m             \u001b[0mprint\u001b[0m\u001b[0;34m(\u001b[0m\u001b[0mself\u001b[0m\u001b[0;34m.\u001b[0m\u001b[0m_jdf\u001b[0m\u001b[0;34m.\u001b[0m\u001b[0mshowString\u001b[0m\u001b[0;34m(\u001b[0m\u001b[0mn\u001b[0m\u001b[0;34m,\u001b[0m \u001b[0mint\u001b[0m\u001b[0;34m(\u001b[0m\u001b[0mtruncate\u001b[0m\u001b[0;34m)\u001b[0m\u001b[0;34m,\u001b[0m \u001b[0mvertical\u001b[0m\u001b[0;34m)\u001b[0m\u001b[0;34m)\u001b[0m\u001b[0;34m\u001b[0m\u001b[0;34m\u001b[0m\u001b[0m\n",
      "\u001b[0;32m~/opt/anaconda3/envs/BigData/lib/python3.7/site-packages/py4j/java_gateway.py\u001b[0m in \u001b[0;36m__call__\u001b[0;34m(self, *args)\u001b[0m\n\u001b[1;32m   1303\u001b[0m         \u001b[0manswer\u001b[0m \u001b[0;34m=\u001b[0m \u001b[0mself\u001b[0m\u001b[0;34m.\u001b[0m\u001b[0mgateway_client\u001b[0m\u001b[0;34m.\u001b[0m\u001b[0msend_command\u001b[0m\u001b[0;34m(\u001b[0m\u001b[0mcommand\u001b[0m\u001b[0;34m)\u001b[0m\u001b[0;34m\u001b[0m\u001b[0;34m\u001b[0m\u001b[0m\n\u001b[1;32m   1304\u001b[0m         return_value = get_return_value(\n\u001b[0;32m-> 1305\u001b[0;31m             answer, self.gateway_client, self.target_id, self.name)\n\u001b[0m\u001b[1;32m   1306\u001b[0m \u001b[0;34m\u001b[0m\u001b[0m\n\u001b[1;32m   1307\u001b[0m         \u001b[0;32mfor\u001b[0m \u001b[0mtemp_arg\u001b[0m \u001b[0;32min\u001b[0m \u001b[0mtemp_args\u001b[0m\u001b[0;34m:\u001b[0m\u001b[0;34m\u001b[0m\u001b[0;34m\u001b[0m\u001b[0m\n",
      "\u001b[0;32m~/opt/anaconda3/envs/BigData/lib/python3.7/site-packages/pyspark/sql/utils.py\u001b[0m in \u001b[0;36mdeco\u001b[0;34m(*a, **kw)\u001b[0m\n\u001b[1;32m    109\u001b[0m     \u001b[0;32mdef\u001b[0m \u001b[0mdeco\u001b[0m\u001b[0;34m(\u001b[0m\u001b[0;34m*\u001b[0m\u001b[0ma\u001b[0m\u001b[0;34m,\u001b[0m \u001b[0;34m**\u001b[0m\u001b[0mkw\u001b[0m\u001b[0;34m)\u001b[0m\u001b[0;34m:\u001b[0m\u001b[0;34m\u001b[0m\u001b[0;34m\u001b[0m\u001b[0m\n\u001b[1;32m    110\u001b[0m         \u001b[0;32mtry\u001b[0m\u001b[0;34m:\u001b[0m\u001b[0;34m\u001b[0m\u001b[0;34m\u001b[0m\u001b[0m\n\u001b[0;32m--> 111\u001b[0;31m             \u001b[0;32mreturn\u001b[0m \u001b[0mf\u001b[0m\u001b[0;34m(\u001b[0m\u001b[0;34m*\u001b[0m\u001b[0ma\u001b[0m\u001b[0;34m,\u001b[0m \u001b[0;34m**\u001b[0m\u001b[0mkw\u001b[0m\u001b[0;34m)\u001b[0m\u001b[0;34m\u001b[0m\u001b[0;34m\u001b[0m\u001b[0m\n\u001b[0m\u001b[1;32m    112\u001b[0m         \u001b[0;32mexcept\u001b[0m \u001b[0mpy4j\u001b[0m\u001b[0;34m.\u001b[0m\u001b[0mprotocol\u001b[0m\u001b[0;34m.\u001b[0m\u001b[0mPy4JJavaError\u001b[0m \u001b[0;32mas\u001b[0m \u001b[0me\u001b[0m\u001b[0;34m:\u001b[0m\u001b[0;34m\u001b[0m\u001b[0;34m\u001b[0m\u001b[0m\n\u001b[1;32m    113\u001b[0m             \u001b[0mconverted\u001b[0m \u001b[0;34m=\u001b[0m \u001b[0mconvert_exception\u001b[0m\u001b[0;34m(\u001b[0m\u001b[0me\u001b[0m\u001b[0;34m.\u001b[0m\u001b[0mjava_exception\u001b[0m\u001b[0;34m)\u001b[0m\u001b[0;34m\u001b[0m\u001b[0;34m\u001b[0m\u001b[0m\n",
      "\u001b[0;32m~/opt/anaconda3/envs/BigData/lib/python3.7/site-packages/py4j/protocol.py\u001b[0m in \u001b[0;36mget_return_value\u001b[0;34m(answer, gateway_client, target_id, name)\u001b[0m\n\u001b[1;32m    326\u001b[0m                 raise Py4JJavaError(\n\u001b[1;32m    327\u001b[0m                     \u001b[0;34m\"An error occurred while calling {0}{1}{2}.\\n\"\u001b[0m\u001b[0;34m.\u001b[0m\u001b[0;34m\u001b[0m\u001b[0;34m\u001b[0m\u001b[0m\n\u001b[0;32m--> 328\u001b[0;31m                     format(target_id, \".\", name), value)\n\u001b[0m\u001b[1;32m    329\u001b[0m             \u001b[0;32melse\u001b[0m\u001b[0;34m:\u001b[0m\u001b[0;34m\u001b[0m\u001b[0;34m\u001b[0m\u001b[0m\n\u001b[1;32m    330\u001b[0m                 raise Py4JError(\n",
      "\u001b[0;31mPy4JJavaError\u001b[0m: An error occurred while calling o3497.showString.\n: org.apache.spark.SparkException: Job aborted due to stage failure: Task 3 in stage 2928.0 failed 1 times, most recent failure: Lost task 3.0 in stage 2928.0 (TID 370363) (yuedembp executor driver): net.razorvine.pickle.PickleException: expected zero arguments for construction of ClassDict (for pyspark.ml.linalg.DenseVector)\n\tat net.razorvine.pickle.objects.ClassDictConstructor.construct(ClassDictConstructor.java:23)\n\tat net.razorvine.pickle.Unpickler.load_reduce(Unpickler.java:773)\n\tat net.razorvine.pickle.Unpickler.dispatch(Unpickler.java:213)\n\tat net.razorvine.pickle.Unpickler.load(Unpickler.java:123)\n\tat net.razorvine.pickle.Unpickler.loads(Unpickler.java:136)\n\tat org.apache.spark.sql.execution.python.BatchEvalPythonExec.$anonfun$evaluate$6(BatchEvalPythonExec.scala:83)\n\tat scala.collection.Iterator$$anon$11.nextCur(Iterator.scala:484)\n\tat scala.collection.Iterator$$anon$11.hasNext(Iterator.scala:490)\n\tat scala.collection.Iterator$$anon$10.hasNext(Iterator.scala:458)\n\tat scala.collection.Iterator$$anon$10.hasNext(Iterator.scala:458)\n\tat org.apache.spark.sql.catalyst.expressions.GeneratedClass$GeneratedIteratorForCodegenStage7.processNext(Unknown Source)\n\tat org.apache.spark.sql.execution.BufferedRowIterator.hasNext(BufferedRowIterator.java:43)\n\tat org.apache.spark.sql.execution.WholeStageCodegenExec$$anon$1.hasNext(WholeStageCodegenExec.scala:755)\n\tat org.apache.spark.sql.execution.SparkPlan.$anonfun$getByteArrayRdd$1(SparkPlan.scala:345)\n\tat org.apache.spark.rdd.RDD.$anonfun$mapPartitionsInternal$2(RDD.scala:898)\n\tat org.apache.spark.rdd.RDD.$anonfun$mapPartitionsInternal$2$adapted(RDD.scala:898)\n\tat org.apache.spark.rdd.MapPartitionsRDD.compute(MapPartitionsRDD.scala:52)\n\tat org.apache.spark.rdd.RDD.computeOrReadCheckpoint(RDD.scala:373)\n\tat org.apache.spark.rdd.RDD.iterator(RDD.scala:337)\n\tat org.apache.spark.scheduler.ResultTask.runTask(ResultTask.scala:90)\n\tat org.apache.spark.scheduler.Task.run(Task.scala:131)\n\tat org.apache.spark.executor.Executor$TaskRunner.$anonfun$run$3(Executor.scala:497)\n\tat org.apache.spark.util.Utils$.tryWithSafeFinally(Utils.scala:1439)\n\tat org.apache.spark.executor.Executor$TaskRunner.run(Executor.scala:500)\n\tat java.util.concurrent.ThreadPoolExecutor.runWorker(ThreadPoolExecutor.java:1149)\n\tat java.util.concurrent.ThreadPoolExecutor$Worker.run(ThreadPoolExecutor.java:624)\n\tat java.lang.Thread.run(Thread.java:748)\n\nDriver stacktrace:\n\tat org.apache.spark.scheduler.DAGScheduler.failJobAndIndependentStages(DAGScheduler.scala:2253)\n\tat org.apache.spark.scheduler.DAGScheduler.$anonfun$abortStage$2(DAGScheduler.scala:2202)\n\tat org.apache.spark.scheduler.DAGScheduler.$anonfun$abortStage$2$adapted(DAGScheduler.scala:2201)\n\tat scala.collection.mutable.ResizableArray.foreach(ResizableArray.scala:62)\n\tat scala.collection.mutable.ResizableArray.foreach$(ResizableArray.scala:55)\n\tat scala.collection.mutable.ArrayBuffer.foreach(ArrayBuffer.scala:49)\n\tat org.apache.spark.scheduler.DAGScheduler.abortStage(DAGScheduler.scala:2201)\n\tat org.apache.spark.scheduler.DAGScheduler.$anonfun$handleTaskSetFailed$1(DAGScheduler.scala:1078)\n\tat org.apache.spark.scheduler.DAGScheduler.$anonfun$handleTaskSetFailed$1$adapted(DAGScheduler.scala:1078)\n\tat scala.Option.foreach(Option.scala:407)\n\tat org.apache.spark.scheduler.DAGScheduler.handleTaskSetFailed(DAGScheduler.scala:1078)\n\tat org.apache.spark.scheduler.DAGSchedulerEventProcessLoop.doOnReceive(DAGScheduler.scala:2440)\n\tat org.apache.spark.scheduler.DAGSchedulerEventProcessLoop.onReceive(DAGScheduler.scala:2382)\n\tat org.apache.spark.scheduler.DAGSchedulerEventProcessLoop.onReceive(DAGScheduler.scala:2371)\n\tat org.apache.spark.util.EventLoop$$anon$1.run(EventLoop.scala:49)\n\tat org.apache.spark.scheduler.DAGScheduler.runJob(DAGScheduler.scala:868)\n\tat org.apache.spark.SparkContext.runJob(SparkContext.scala:2202)\n\tat org.apache.spark.SparkContext.runJob(SparkContext.scala:2223)\n\tat org.apache.spark.SparkContext.runJob(SparkContext.scala:2242)\n\tat org.apache.spark.sql.execution.SparkPlan.executeTake(SparkPlan.scala:472)\n\tat org.apache.spark.sql.execution.SparkPlan.executeTake(SparkPlan.scala:425)\n\tat org.apache.spark.sql.execution.CollectLimitExec.executeCollect(limit.scala:47)\n\tat org.apache.spark.sql.Dataset.collectFromPlan(Dataset.scala:3696)\n\tat org.apache.spark.sql.Dataset.$anonfun$head$1(Dataset.scala:2722)\n\tat org.apache.spark.sql.Dataset.$anonfun$withAction$1(Dataset.scala:3687)\n\tat org.apache.spark.sql.execution.SQLExecution$.$anonfun$withNewExecutionId$5(SQLExecution.scala:103)\n\tat org.apache.spark.sql.execution.SQLExecution$.withSQLConfPropagated(SQLExecution.scala:163)\n\tat org.apache.spark.sql.execution.SQLExecution$.$anonfun$withNewExecutionId$1(SQLExecution.scala:90)\n\tat org.apache.spark.sql.SparkSession.withActive(SparkSession.scala:772)\n\tat org.apache.spark.sql.execution.SQLExecution$.withNewExecutionId(SQLExecution.scala:64)\n\tat org.apache.spark.sql.Dataset.withAction(Dataset.scala:3685)\n\tat org.apache.spark.sql.Dataset.head(Dataset.scala:2722)\n\tat org.apache.spark.sql.Dataset.take(Dataset.scala:2929)\n\tat org.apache.spark.sql.Dataset.getRows(Dataset.scala:301)\n\tat org.apache.spark.sql.Dataset.showString(Dataset.scala:338)\n\tat sun.reflect.GeneratedMethodAccessor155.invoke(Unknown Source)\n\tat sun.reflect.DelegatingMethodAccessorImpl.invoke(DelegatingMethodAccessorImpl.java:43)\n\tat java.lang.reflect.Method.invoke(Method.java:498)\n\tat py4j.reflection.MethodInvoker.invoke(MethodInvoker.java:244)\n\tat py4j.reflection.ReflectionEngine.invoke(ReflectionEngine.java:357)\n\tat py4j.Gateway.invoke(Gateway.java:282)\n\tat py4j.commands.AbstractCommand.invokeMethod(AbstractCommand.java:132)\n\tat py4j.commands.CallCommand.execute(CallCommand.java:79)\n\tat py4j.GatewayConnection.run(GatewayConnection.java:238)\n\tat java.lang.Thread.run(Thread.java:748)\nCaused by: net.razorvine.pickle.PickleException: expected zero arguments for construction of ClassDict (for pyspark.ml.linalg.DenseVector)\n\tat net.razorvine.pickle.objects.ClassDictConstructor.construct(ClassDictConstructor.java:23)\n\tat net.razorvine.pickle.Unpickler.load_reduce(Unpickler.java:773)\n\tat net.razorvine.pickle.Unpickler.dispatch(Unpickler.java:213)\n\tat net.razorvine.pickle.Unpickler.load(Unpickler.java:123)\n\tat net.razorvine.pickle.Unpickler.loads(Unpickler.java:136)\n\tat org.apache.spark.sql.execution.python.BatchEvalPythonExec.$anonfun$evaluate$6(BatchEvalPythonExec.scala:83)\n\tat scala.collection.Iterator$$anon$11.nextCur(Iterator.scala:484)\n\tat scala.collection.Iterator$$anon$11.hasNext(Iterator.scala:490)\n\tat scala.collection.Iterator$$anon$10.hasNext(Iterator.scala:458)\n\tat scala.collection.Iterator$$anon$10.hasNext(Iterator.scala:458)\n\tat org.apache.spark.sql.catalyst.expressions.GeneratedClass$GeneratedIteratorForCodegenStage7.processNext(Unknown Source)\n\tat org.apache.spark.sql.execution.BufferedRowIterator.hasNext(BufferedRowIterator.java:43)\n\tat org.apache.spark.sql.execution.WholeStageCodegenExec$$anon$1.hasNext(WholeStageCodegenExec.scala:755)\n\tat org.apache.spark.sql.execution.SparkPlan.$anonfun$getByteArrayRdd$1(SparkPlan.scala:345)\n\tat org.apache.spark.rdd.RDD.$anonfun$mapPartitionsInternal$2(RDD.scala:898)\n\tat org.apache.spark.rdd.RDD.$anonfun$mapPartitionsInternal$2$adapted(RDD.scala:898)\n\tat org.apache.spark.rdd.MapPartitionsRDD.compute(MapPartitionsRDD.scala:52)\n\tat org.apache.spark.rdd.RDD.computeOrReadCheckpoint(RDD.scala:373)\n\tat org.apache.spark.rdd.RDD.iterator(RDD.scala:337)\n\tat org.apache.spark.scheduler.ResultTask.runTask(ResultTask.scala:90)\n\tat org.apache.spark.scheduler.Task.run(Task.scala:131)\n\tat org.apache.spark.executor.Executor$TaskRunner.$anonfun$run$3(Executor.scala:497)\n\tat org.apache.spark.util.Utils$.tryWithSafeFinally(Utils.scala:1439)\n\tat org.apache.spark.executor.Executor$TaskRunner.run(Executor.scala:500)\n\tat java.util.concurrent.ThreadPoolExecutor.runWorker(ThreadPoolExecutor.java:1149)\n\tat java.util.concurrent.ThreadPoolExecutor$Worker.run(ThreadPoolExecutor.java:624)\n\t... 1 more\n"
     ]
    }
   ],
   "source": [
    "rf_predictions.show()\n",
    "lr_predictions.show()\n",
    "mlp_predictions.show()\n",
    "dt_predictions.show()\n",
    "ovr_predictions.show()"
   ]
  },
  {
   "cell_type": "markdown",
   "metadata": {},
   "source": [
    "# 5. Prediction Output"
   ]
  },
  {
   "cell_type": "code",
   "execution_count": 136,
   "metadata": {},
   "outputs": [],
   "source": [
    "### Combine the new dataframe\n",
    "# Extract prediction of target variable \"DriverWellbeing\"\n",
    "driverWellbeing_va = VectorAssembler(inputCols=[\"prediction\"], outputCol=\"driverWellbeing_prediction\")\n",
    "driverWellbeing_adj_prediction = driverWellbeing_va.setHandleInvalid(\"skip\").transform(rf_predictions_driverWellbeing)\n",
    "\n",
    "# Extract prediction of target variable \"DriverRush\"\n",
    "driverRush_va = VectorAssembler(inputCols=[\"prediction\"], outputCol=\"driverRush_prediction\")\n",
    "driverRush_adj_prediction = driverRush_va.setHandleInvalid(\"skip\").transform(rf_predictions_driverRush)\n",
    "\n",
    "# Extract prediction of target variable \"Rain Intensity\"\n",
    "rainIntensity_va = VectorAssembler(inputCols=[\"prediction\"], outputCol=\"rainIntensity_prediction\")\n",
    "rainIntensity_adj_prediction = rainIntensity_va.setHandleInvalid(\"skip\").transform(rf_predictions_rainInensity)\n",
    "\n",
    "# Extract prediction of target variable \"Vehicle Speed\"\n",
    "vehicleSpeed_va = VectorAssembler(inputCols=[\"prediction\"], outputCol=\"vehicleSpeed_prediction\")\n",
    "vehicleSpeed_adj_prediction = vehicleSpeed_va.setHandleInvalid(\"skip\").transform(rf_predictions_vehicleSpeed)\n",
    "\n",
    "\n",
    "### Target variable selection\n",
    "# Driver Wellbeing\n",
    "driverWellbeing_pred = driverWellbeing_adj_prediction.select(\"time\",\"driverWellbeing_prediction\")\n",
    "# Driver Rush\n",
    "driverRush_pred = driverRush_adj_prediction.select(\"driverRush_prediction\")\n",
    "# Rain Intensity\n",
    "rainIntensity_pred = rainIntensity_adj_prediction.select(\"rainIntensity_prediction\")\n",
    "# Vehicle Speed\n",
    "vehicleSpeed_pred = vehicleSpeed_adj_prediction.select(\"vehicleSpeed_prediction\")\n",
    "\n",
    "#### Combine\n",
    "driverWellbeing_pred = driverWellbeing_pred.withColumn(\"id\", monotonically_increasing_id())\n",
    "\n",
    "driverRush_pred = driverRush_pred.withColumn(\"id\", monotonically_increasing_id())\n",
    "\n",
    "rainIntensity_pred = rainIntensity_pred.withColumn(\"id\", monotonically_increasing_id())\n",
    "\n",
    "vehicleSpeed_pred = vehicleSpeed_pred.withColumn(\"id\", monotonically_increasing_id())\n",
    "combined_predictions= driverWellbeing_pred.join(driverRush_pred,\"id\", \"outer\")\n",
    "combined_predictions= combined_predictions.join(rainIntensity_pred,\"id\", \"outer\")\n",
    "combined_predictions= combined_predictions.join(vehicleSpeed_pred, \"id\", \"outer\").drop(\"id\")\n"
   ]
  },
  {
   "cell_type": "markdown",
   "metadata": {},
   "source": [
    "**Transform into integer type**"
   ]
  },
  {
   "cell_type": "code",
   "execution_count": 142,
   "metadata": {},
   "outputs": [],
   "source": [
    "from pyspark.sql import functions as F\n",
    "udf1 = F.udf(lambda x : int(x[0]),IntegerType())\n",
    "combined_predictions = combined_predictions.select('time',udf1('driverWellbeing_prediction').alias('driverWellbeing'),udf1('driverRush_prediction').alias('driverRush'),udf1('rainIntensity_prediction').alias('rainIntensity'),udf1('vehicleSpeed_prediction').alias('vehicleSpeed'))"
   ]
  },
  {
   "cell_type": "markdown",
   "metadata": {},
   "source": [
    "**Save prediction file**"
   ]
  },
  {
   "cell_type": "code",
   "execution_count": 144,
   "metadata": {},
   "outputs": [],
   "source": [
    "combined_predictions.toPandas().to_csv('../Data/Global_Output.csv')"
   ]
  }
 ],
 "metadata": {
  "kernelspec": {
   "display_name": "Python 3",
   "language": "python",
   "name": "python3"
  },
  "language_info": {
   "codemirror_mode": {
    "name": "ipython",
    "version": 3
   },
   "file_extension": ".py",
   "mimetype": "text/x-python",
   "name": "python",
   "nbconvert_exporter": "python",
   "pygments_lexer": "ipython3",
   "version": "3.7.1"
  }
 },
 "nbformat": 4,
 "nbformat_minor": 2
}
