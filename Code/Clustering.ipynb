{
 "cells": [
  {
   "cell_type": "code",
   "execution_count": 1,
   "metadata": {},
   "outputs": [],
   "source": [
    "from pyspark.sql import SparkSession\n",
    "\n",
    "spark = SparkSession \\\n",
    "    .builder \\\n",
    "    .appName(\"Python Spark K-means\") \\\n",
    "    .config(\"spark.some.config.option\", \"some-value\") \\\n",
    "    .getOrCreate()\n"
   ]
  },
  {
   "cell_type": "markdown",
   "metadata": {},
   "source": [
    "# 1. Import Libary"
   ]
  },
  {
   "cell_type": "code",
   "execution_count": 2,
   "metadata": {},
   "outputs": [],
   "source": [
    "from pyspark.ml import Pipeline\n",
    "from pyspark.sql import SparkSession\n",
    "from pyspark.ml.feature import VectorAssembler\n",
    "from pyspark.ml.classification import DecisionTreeClassifier,OneVsRest\n",
    "from pyspark.ml.regression import RandomForestRegressor\n",
    "from pyspark.ml.classification import RandomForestClassifier\n",
    "from pyspark.ml.regression import GBTRegressor\n",
    "from pyspark.ml.classification import MultilayerPerceptronClassifier\n",
    "from pyspark.ml.feature import VectorIndexer\n",
    "from pyspark.ml.classification import FMClassifier\n",
    "from pyspark.ml.classification import GBTClassifier\n",
    "from pyspark.ml.regression import FMRegressor\n",
    "from pyspark.mllib.classification import SVMWithSGD, SVMModel\n",
    "from pyspark.mllib.regression import LabeledPoint\n",
    "from pyspark.ml.feature import MinMaxScaler\n",
    "from pyspark.ml.evaluation import RegressionEvaluator\n",
    "from pyspark.ml.feature import QuantileDiscretizer\n",
    "from pyspark.ml.evaluation import MulticlassClassificationEvaluator\n",
    "from pyspark.ml.classification import LogisticRegression\n",
    "from pyspark.sql.functions import col\n",
    "import pandas as pd\n",
    "import numpy as np"
   ]
  },
  {
   "cell_type": "markdown",
   "metadata": {},
   "source": [
    "# 2. Load Data"
   ]
  },
  {
   "cell_type": "code",
   "execution_count": 3,
   "metadata": {},
   "outputs": [],
   "source": [
    "# Import global model prediciton\n",
    "from pyspark.sql.types import ArrayType\n",
    "df = spark.read.options(delimiter=\",\",inferSchema=True,header=True).csv(\"../Data/Global_Output.csv\")\n",
    "df = df.drop('_c0')\n",
    "combinded_va = VectorAssembler(inputCols=[\"driverWellbeing\",\"driverRush\",\"rainIntensity\",\"vehicleSpeed\"], outputCol=\"features\")\n",
    "combined_adj = combinded_va.setHandleInvalid(\"skip\").transform(df)\n",
    "combined_predictions = combined_adj.select(\"time\",\"features\")"
   ]
  },
  {
   "cell_type": "markdown",
   "metadata": {},
   "source": [
    "# 3.Standardization"
   ]
  },
  {
   "cell_type": "markdown",
   "metadata": {},
   "source": [
    "### 3.1 StandardScaler "
   ]
  },
  {
   "cell_type": "code",
   "execution_count": 4,
   "metadata": {},
   "outputs": [],
   "source": [
    "from pyspark.ml.feature import VectorAssembler, StandardScaler\n",
    "# Standararazation\n",
    "standard_scaler = StandardScaler(inputCol=\"features\", outputCol=\"scaled features\")\n",
    "test = standard_scaler.fit(combined_predictions).transform(combined_predictions)\n",
    "\n",
    "test = test.drop('features')\n",
    "test = test.withColumnRenamed(\"scaled features\",\"features\")"
   ]
  },
  {
   "cell_type": "markdown",
   "metadata": {},
   "source": [
    "# 4. K-Means Clustering"
   ]
  },
  {
   "cell_type": "markdown",
   "metadata": {},
   "source": [
    "**4.1 Train Clustering Model(Optional)**\n",
    "\n",
    "########\n",
    "\n",
    "  NOTE: You do not need to train the model, the model was trained and stored in local already\n",
    "########"
   ]
  },
  {
   "cell_type": "code",
   "execution_count": 5,
   "metadata": {},
   "outputs": [],
   "source": [
    "########\n",
    "###  NOTE: You do not need to train the model, the model was trained and stored in local already\n",
    "########\n",
    "\n",
    "import numpy as np\n",
    "from pyspark.ml.clustering import KMeans\n",
    "from pyspark.ml.evaluation import ClusteringEvaluator\n",
    "\n",
    "kmeans = KMeans().setK(4).setSeed(123).setFeaturesCol(\"features\").setPredictionCol(\"prediction\")\n",
    "\n",
    "new_kmeans_model = kmeans.fit(combined_predictions)\n",
    "\n",
    "# Make predictions\n",
    "\n",
    "predictions = new_kmeans_model.transform(test)\n",
    "\n",
    "# Evaluate clustering by computing Silhouette score\n",
    "evaluator = ClusteringEvaluator()\n",
    "\n",
    "silhouette = evaluator.evaluate(predictions)\n"
   ]
  },
  {
   "cell_type": "markdown",
   "metadata": {},
   "source": [
    "**Load Model**"
   ]
  },
  {
   "cell_type": "code",
   "execution_count": 6,
   "metadata": {},
   "outputs": [],
   "source": [
    "from pyspark.ml.clustering import KMeansModel\n",
    "kmeans_model = KMeansModel.load('../Models/K-Means Model')"
   ]
  },
  {
   "cell_type": "markdown",
   "metadata": {},
   "source": [
    "**Prediction Analysis**"
   ]
  },
  {
   "cell_type": "code",
   "execution_count": 7,
   "metadata": {},
   "outputs": [],
   "source": [
    "\n",
    "from pyspark.ml.clustering import KMeans\n",
    "from pyspark.ml.evaluation import ClusteringEvaluator\n",
    "predictions = kmeans_model.transform(test)\n",
    "# predictions = new_kmeans_model.transform(test)\n",
    "\n",
    "# Evaluate clustering by computing Silhouette score\n",
    "evaluator = ClusteringEvaluator()\n",
    "\n",
    "silhouette = evaluator.evaluate(predictions)"
   ]
  },
  {
   "cell_type": "markdown",
   "metadata": {},
   "source": [
    "# Driver Pattern Visualization"
   ]
  },
  {
   "cell_type": "code",
   "execution_count": 8,
   "metadata": {},
   "outputs": [],
   "source": [
    "import matplotlib.pyplot as plt\n",
    "### Reorder the prediction base on their time\n",
    "driverPattern_Prediction = predictions.toPandas()\n",
    "driverPattern_Prediction = driverPattern_Prediction.sort_values(by ='time' )"
   ]
  },
  {
   "cell_type": "code",
   "execution_count": 10,
   "metadata": {},
   "outputs": [
    {
     "data": {
      "image/png": "[encoded data removed]",
      "text/plain": [
       "<Figure size 432x288 with 1 Axes>"
      ]
     },
     "metadata": {
      "needs_background": "light"
     },
     "output_type": "display_data"
    }
   ],
   "source": [
    "##############\n",
    "#### Logic: \n",
    "### 1. Divide prediction into multiple parts\n",
    "### 2. Get driver pattern of each part base on the majarority voting\n",
    "### 3. visualization\n",
    "from matplotlib.pyplot import MultipleLocator\n",
    "dfs = np.array_split(driverPattern_Prediction, int(driverPattern_Prediction.shape[0]/1)) # split the dataframe into 161 separate tables\n",
    "driverPattern_list=[]\n",
    "time_list=[]\n",
    "for i in range(0,len(dfs)):\n",
    "    tmp_df = pd.DataFrame(dfs[i])\n",
    "    tmp_driverPattern = tmp_df['prediction'].value_counts().idxmax()\n",
    "    driverPattern_list.append(tmp_driverPattern)\n",
    "    time_list.append(20*i)\n",
    "#     driverPattern_list.append(tmp_driverPattern)\n",
    "plt.scatter(time_list, driverPattern_list)\n",
    "plt.ylim(-0.5, 3.5)\n",
    "\n",
    "ax=plt.gca()\n",
    "\n",
    "ax.yaxis.set_major_locator(MultipleLocator(1))\n",
    "# ax.xaxis.set_major_locator(MultipleLocator(1))\n",
    "plt.title(\"Driver Pattern Prediction\")\n",
    "plt.ylabel(\"Driver Pattern Class\")\n",
    "plt.xlabel(\"Time(Millisecond)\")\n",
    "plt.show()"
   ]
  },
  {
   "cell_type": "code",
   "execution_count": null,
   "metadata": {},
   "outputs": [],
   "source": []
  }
 ],
 "metadata": {
  "kernelspec": {
   "display_name": "Python 3",
   "language": "python",
   "name": "python3"
  },
  "language_info": {
   "codemirror_mode": {
    "name": "ipython",
    "version": 3
   },
   "file_extension": ".py",
   "mimetype": "text/x-python",
   "name": "python",
   "nbconvert_exporter": "python",
   "pygments_lexer": "ipython3",
   "version": "3.7.1"
  }
 },
 "nbformat": 4,
 "nbformat_minor": 2
}
